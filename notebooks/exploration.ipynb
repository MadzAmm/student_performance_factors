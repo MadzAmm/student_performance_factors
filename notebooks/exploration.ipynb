{
 "cells": [
  {
   "cell_type": "markdown",
   "id": "253f74e7",
   "metadata": {},
   "source": [
    "1. Import library yang diperlukan untuk EDA"
   ]
  },
  {
   "cell_type": "code",
   "execution_count": 1,
   "id": "18773e76",
   "metadata": {},
   "outputs": [
    {
     "name": "stdout",
     "output_type": "stream",
     "text": [
      "Berhasil import library!\n"
     ]
    }
   ],
   "source": [
    "import pandas as pd  # mengatur dataset menjadi data frame (df, istilah yang mirip dengan row, column dalam excel) agar rapih seperti tampilan excel\n",
    "import numpy as np   #\n",
    "import seaborn as sns # library visualisai\n",
    "import matplotlib.pyplot as plt # library visualisai\n",
    "%matplotlib inline\n",
    "sns.set(color_codes=True)\n",
    "\n",
    "print(\"Berhasil import library!\")"
   ]
  },
  {
   "cell_type": "markdown",
   "id": "1578d1f2",
   "metadata": {},
   "source": [
    "2. Read data set dan tampilkan 5 data teratas"
   ]
  },
  {
   "cell_type": "code",
   "execution_count": 2,
   "id": "1e8e3686",
   "metadata": {},
   "outputs": [
    {
     "data": {
      "application/vnd.microsoft.datawrangler.viewer.v0+json": {
       "columns": [
        {
         "name": "index",
         "rawType": "int64",
         "type": "integer"
        },
        {
         "name": "Hours_Studied",
         "rawType": "int64",
         "type": "integer"
        },
        {
         "name": "Attendance",
         "rawType": "int64",
         "type": "integer"
        },
        {
         "name": "Parental_Involvement",
         "rawType": "object",
         "type": "string"
        },
        {
         "name": "Access_to_Resources",
         "rawType": "object",
         "type": "string"
        },
        {
         "name": "Extracurricular_Activities",
         "rawType": "object",
         "type": "string"
        },
        {
         "name": "Sleep_Hours",
         "rawType": "int64",
         "type": "integer"
        },
        {
         "name": "Previous_Scores",
         "rawType": "int64",
         "type": "integer"
        },
        {
         "name": "Motivation_Level",
         "rawType": "object",
         "type": "string"
        },
        {
         "name": "Internet_Access",
         "rawType": "object",
         "type": "string"
        },
        {
         "name": "Tutoring_Sessions",
         "rawType": "int64",
         "type": "integer"
        },
        {
         "name": "Family_Income",
         "rawType": "object",
         "type": "string"
        },
        {
         "name": "Teacher_Quality",
         "rawType": "object",
         "type": "string"
        },
        {
         "name": "School_Type",
         "rawType": "object",
         "type": "string"
        },
        {
         "name": "Peer_Influence",
         "rawType": "object",
         "type": "string"
        },
        {
         "name": "Physical_Activity",
         "rawType": "int64",
         "type": "integer"
        },
        {
         "name": "Learning_Disabilities",
         "rawType": "object",
         "type": "string"
        },
        {
         "name": "Parental_Education_Level",
         "rawType": "object",
         "type": "string"
        },
        {
         "name": "Distance_from_Home",
         "rawType": "object",
         "type": "string"
        },
        {
         "name": "Gender",
         "rawType": "object",
         "type": "string"
        },
        {
         "name": "Exam_Score",
         "rawType": "int64",
         "type": "integer"
        }
       ],
       "ref": "f2d7fc1a-b261-433a-b7b3-897b95f5f3e0",
       "rows": [
        [
         "0",
         "23",
         "84",
         "Low",
         "High",
         "No",
         "7",
         "73",
         "Low",
         "Yes",
         "0",
         "Low",
         "Medium",
         "Public",
         "Positive",
         "3",
         "No",
         "High School",
         "Near",
         "Male",
         "67"
        ],
        [
         "1",
         "19",
         "64",
         "Low",
         "Medium",
         "No",
         "8",
         "59",
         "Low",
         "Yes",
         "2",
         "Medium",
         "Medium",
         "Public",
         "Negative",
         "4",
         "No",
         "College",
         "Moderate",
         "Female",
         "61"
        ],
        [
         "2",
         "24",
         "98",
         "Medium",
         "Medium",
         "Yes",
         "7",
         "91",
         "Medium",
         "Yes",
         "2",
         "Medium",
         "Medium",
         "Public",
         "Neutral",
         "4",
         "No",
         "Postgraduate",
         "Near",
         "Male",
         "74"
        ],
        [
         "3",
         "29",
         "89",
         "Low",
         "Medium",
         "Yes",
         "8",
         "98",
         "Medium",
         "Yes",
         "1",
         "Medium",
         "Medium",
         "Public",
         "Negative",
         "4",
         "No",
         "High School",
         "Moderate",
         "Male",
         "71"
        ],
        [
         "4",
         "19",
         "92",
         "Medium",
         "Medium",
         "Yes",
         "6",
         "65",
         "Medium",
         "Yes",
         "3",
         "Medium",
         "High",
         "Public",
         "Neutral",
         "4",
         "No",
         "College",
         "Near",
         "Female",
         "70"
        ]
       ],
       "shape": {
        "columns": 20,
        "rows": 5
       }
      },
      "text/html": [
       "<div>\n",
       "<style scoped>\n",
       "    .dataframe tbody tr th:only-of-type {\n",
       "        vertical-align: middle;\n",
       "    }\n",
       "\n",
       "    .dataframe tbody tr th {\n",
       "        vertical-align: top;\n",
       "    }\n",
       "\n",
       "    .dataframe thead th {\n",
       "        text-align: right;\n",
       "    }\n",
       "</style>\n",
       "<table border=\"1\" class=\"dataframe\">\n",
       "  <thead>\n",
       "    <tr style=\"text-align: right;\">\n",
       "      <th></th>\n",
       "      <th>Hours_Studied</th>\n",
       "      <th>Attendance</th>\n",
       "      <th>Parental_Involvement</th>\n",
       "      <th>Access_to_Resources</th>\n",
       "      <th>Extracurricular_Activities</th>\n",
       "      <th>Sleep_Hours</th>\n",
       "      <th>Previous_Scores</th>\n",
       "      <th>Motivation_Level</th>\n",
       "      <th>Internet_Access</th>\n",
       "      <th>Tutoring_Sessions</th>\n",
       "      <th>Family_Income</th>\n",
       "      <th>Teacher_Quality</th>\n",
       "      <th>School_Type</th>\n",
       "      <th>Peer_Influence</th>\n",
       "      <th>Physical_Activity</th>\n",
       "      <th>Learning_Disabilities</th>\n",
       "      <th>Parental_Education_Level</th>\n",
       "      <th>Distance_from_Home</th>\n",
       "      <th>Gender</th>\n",
       "      <th>Exam_Score</th>\n",
       "    </tr>\n",
       "  </thead>\n",
       "  <tbody>\n",
       "    <tr>\n",
       "      <th>0</th>\n",
       "      <td>23</td>\n",
       "      <td>84</td>\n",
       "      <td>Low</td>\n",
       "      <td>High</td>\n",
       "      <td>No</td>\n",
       "      <td>7</td>\n",
       "      <td>73</td>\n",
       "      <td>Low</td>\n",
       "      <td>Yes</td>\n",
       "      <td>0</td>\n",
       "      <td>Low</td>\n",
       "      <td>Medium</td>\n",
       "      <td>Public</td>\n",
       "      <td>Positive</td>\n",
       "      <td>3</td>\n",
       "      <td>No</td>\n",
       "      <td>High School</td>\n",
       "      <td>Near</td>\n",
       "      <td>Male</td>\n",
       "      <td>67</td>\n",
       "    </tr>\n",
       "    <tr>\n",
       "      <th>1</th>\n",
       "      <td>19</td>\n",
       "      <td>64</td>\n",
       "      <td>Low</td>\n",
       "      <td>Medium</td>\n",
       "      <td>No</td>\n",
       "      <td>8</td>\n",
       "      <td>59</td>\n",
       "      <td>Low</td>\n",
       "      <td>Yes</td>\n",
       "      <td>2</td>\n",
       "      <td>Medium</td>\n",
       "      <td>Medium</td>\n",
       "      <td>Public</td>\n",
       "      <td>Negative</td>\n",
       "      <td>4</td>\n",
       "      <td>No</td>\n",
       "      <td>College</td>\n",
       "      <td>Moderate</td>\n",
       "      <td>Female</td>\n",
       "      <td>61</td>\n",
       "    </tr>\n",
       "    <tr>\n",
       "      <th>2</th>\n",
       "      <td>24</td>\n",
       "      <td>98</td>\n",
       "      <td>Medium</td>\n",
       "      <td>Medium</td>\n",
       "      <td>Yes</td>\n",
       "      <td>7</td>\n",
       "      <td>91</td>\n",
       "      <td>Medium</td>\n",
       "      <td>Yes</td>\n",
       "      <td>2</td>\n",
       "      <td>Medium</td>\n",
       "      <td>Medium</td>\n",
       "      <td>Public</td>\n",
       "      <td>Neutral</td>\n",
       "      <td>4</td>\n",
       "      <td>No</td>\n",
       "      <td>Postgraduate</td>\n",
       "      <td>Near</td>\n",
       "      <td>Male</td>\n",
       "      <td>74</td>\n",
       "    </tr>\n",
       "    <tr>\n",
       "      <th>3</th>\n",
       "      <td>29</td>\n",
       "      <td>89</td>\n",
       "      <td>Low</td>\n",
       "      <td>Medium</td>\n",
       "      <td>Yes</td>\n",
       "      <td>8</td>\n",
       "      <td>98</td>\n",
       "      <td>Medium</td>\n",
       "      <td>Yes</td>\n",
       "      <td>1</td>\n",
       "      <td>Medium</td>\n",
       "      <td>Medium</td>\n",
       "      <td>Public</td>\n",
       "      <td>Negative</td>\n",
       "      <td>4</td>\n",
       "      <td>No</td>\n",
       "      <td>High School</td>\n",
       "      <td>Moderate</td>\n",
       "      <td>Male</td>\n",
       "      <td>71</td>\n",
       "    </tr>\n",
       "    <tr>\n",
       "      <th>4</th>\n",
       "      <td>19</td>\n",
       "      <td>92</td>\n",
       "      <td>Medium</td>\n",
       "      <td>Medium</td>\n",
       "      <td>Yes</td>\n",
       "      <td>6</td>\n",
       "      <td>65</td>\n",
       "      <td>Medium</td>\n",
       "      <td>Yes</td>\n",
       "      <td>3</td>\n",
       "      <td>Medium</td>\n",
       "      <td>High</td>\n",
       "      <td>Public</td>\n",
       "      <td>Neutral</td>\n",
       "      <td>4</td>\n",
       "      <td>No</td>\n",
       "      <td>College</td>\n",
       "      <td>Near</td>\n",
       "      <td>Female</td>\n",
       "      <td>70</td>\n",
       "    </tr>\n",
       "  </tbody>\n",
       "</table>\n",
       "</div>"
      ],
      "text/plain": [
       "   Hours_Studied  Attendance Parental_Involvement Access_to_Resources  \\\n",
       "0             23          84                  Low                High   \n",
       "1             19          64                  Low              Medium   \n",
       "2             24          98               Medium              Medium   \n",
       "3             29          89                  Low              Medium   \n",
       "4             19          92               Medium              Medium   \n",
       "\n",
       "  Extracurricular_Activities  Sleep_Hours  Previous_Scores Motivation_Level  \\\n",
       "0                         No            7               73              Low   \n",
       "1                         No            8               59              Low   \n",
       "2                        Yes            7               91           Medium   \n",
       "3                        Yes            8               98           Medium   \n",
       "4                        Yes            6               65           Medium   \n",
       "\n",
       "  Internet_Access  Tutoring_Sessions Family_Income Teacher_Quality  \\\n",
       "0             Yes                  0           Low          Medium   \n",
       "1             Yes                  2        Medium          Medium   \n",
       "2             Yes                  2        Medium          Medium   \n",
       "3             Yes                  1        Medium          Medium   \n",
       "4             Yes                  3        Medium            High   \n",
       "\n",
       "  School_Type Peer_Influence  Physical_Activity Learning_Disabilities  \\\n",
       "0      Public       Positive                  3                    No   \n",
       "1      Public       Negative                  4                    No   \n",
       "2      Public        Neutral                  4                    No   \n",
       "3      Public       Negative                  4                    No   \n",
       "4      Public        Neutral                  4                    No   \n",
       "\n",
       "  Parental_Education_Level Distance_from_Home  Gender  Exam_Score  \n",
       "0              High School               Near    Male          67  \n",
       "1                  College           Moderate  Female          61  \n",
       "2             Postgraduate               Near    Male          74  \n",
       "3              High School           Moderate    Male          71  \n",
       "4                  College               Near  Female          70  "
      ]
     },
     "execution_count": 2,
     "metadata": {},
     "output_type": "execute_result"
    }
   ],
   "source": [
    "# baca data dari file format csv\n",
    "\n",
    "df = pd.read_csv('../data/StudentPerformanceFactors.csv')\n",
    "df.head(5)\n",
    "\n",
    "# df: variable yang berisi method/fungsi read dari library pandas untuk membaca file, sekaligus menyimpan hasil kerja method read\n",
    "# .head: gunakan method/fungsi  head untuk  mengambil  data teratas\n",
    "# () : jumlah data  yang hendak ditampilkan"
   ]
  },
  {
   "cell_type": "markdown",
   "id": "9aeeb08f",
   "metadata": {},
   "source": [
    "3. Tampilkan 5 data terbawah"
   ]
  },
  {
   "cell_type": "code",
   "execution_count": 3,
   "id": "5248f2d4",
   "metadata": {},
   "outputs": [
    {
     "data": {
      "application/vnd.microsoft.datawrangler.viewer.v0+json": {
       "columns": [
        {
         "name": "index",
         "rawType": "int64",
         "type": "integer"
        },
        {
         "name": "Hours_Studied",
         "rawType": "int64",
         "type": "integer"
        },
        {
         "name": "Attendance",
         "rawType": "int64",
         "type": "integer"
        },
        {
         "name": "Parental_Involvement",
         "rawType": "object",
         "type": "string"
        },
        {
         "name": "Access_to_Resources",
         "rawType": "object",
         "type": "string"
        },
        {
         "name": "Extracurricular_Activities",
         "rawType": "object",
         "type": "string"
        },
        {
         "name": "Sleep_Hours",
         "rawType": "int64",
         "type": "integer"
        },
        {
         "name": "Previous_Scores",
         "rawType": "int64",
         "type": "integer"
        },
        {
         "name": "Motivation_Level",
         "rawType": "object",
         "type": "string"
        },
        {
         "name": "Internet_Access",
         "rawType": "object",
         "type": "string"
        },
        {
         "name": "Tutoring_Sessions",
         "rawType": "int64",
         "type": "integer"
        },
        {
         "name": "Family_Income",
         "rawType": "object",
         "type": "string"
        },
        {
         "name": "Teacher_Quality",
         "rawType": "object",
         "type": "string"
        },
        {
         "name": "School_Type",
         "rawType": "object",
         "type": "string"
        },
        {
         "name": "Peer_Influence",
         "rawType": "object",
         "type": "string"
        },
        {
         "name": "Physical_Activity",
         "rawType": "int64",
         "type": "integer"
        },
        {
         "name": "Learning_Disabilities",
         "rawType": "object",
         "type": "string"
        },
        {
         "name": "Parental_Education_Level",
         "rawType": "object",
         "type": "string"
        },
        {
         "name": "Distance_from_Home",
         "rawType": "object",
         "type": "string"
        },
        {
         "name": "Gender",
         "rawType": "object",
         "type": "string"
        },
        {
         "name": "Exam_Score",
         "rawType": "int64",
         "type": "integer"
        }
       ],
       "ref": "e838570e-dc33-4ec7-873e-dfe9d780c3a6",
       "rows": [
        [
         "6602",
         "25",
         "69",
         "High",
         "Medium",
         "No",
         "7",
         "76",
         "Medium",
         "Yes",
         "1",
         "High",
         "Medium",
         "Public",
         "Positive",
         "2",
         "No",
         "High School",
         "Near",
         "Female",
         "68"
        ],
        [
         "6603",
         "23",
         "76",
         "High",
         "Medium",
         "No",
         "8",
         "81",
         "Medium",
         "Yes",
         "3",
         "Low",
         "High",
         "Public",
         "Positive",
         "2",
         "No",
         "High School",
         "Near",
         "Female",
         "69"
        ],
        [
         "6604",
         "20",
         "90",
         "Medium",
         "Low",
         "Yes",
         "6",
         "65",
         "Low",
         "Yes",
         "3",
         "Low",
         "Medium",
         "Public",
         "Negative",
         "2",
         "No",
         "Postgraduate",
         "Near",
         "Female",
         "68"
        ],
        [
         "6605",
         "10",
         "86",
         "High",
         "High",
         "Yes",
         "6",
         "91",
         "High",
         "Yes",
         "2",
         "Low",
         "Medium",
         "Private",
         "Positive",
         "3",
         "No",
         "High School",
         "Far",
         "Female",
         "68"
        ],
        [
         "6606",
         "15",
         "67",
         "Medium",
         "Low",
         "Yes",
         "9",
         "94",
         "Medium",
         "Yes",
         "0",
         "Medium",
         "Medium",
         "Public",
         "Positive",
         "4",
         "No",
         "Postgraduate",
         "Near",
         "Male",
         "64"
        ]
       ],
       "shape": {
        "columns": 20,
        "rows": 5
       }
      },
      "text/html": [
       "<div>\n",
       "<style scoped>\n",
       "    .dataframe tbody tr th:only-of-type {\n",
       "        vertical-align: middle;\n",
       "    }\n",
       "\n",
       "    .dataframe tbody tr th {\n",
       "        vertical-align: top;\n",
       "    }\n",
       "\n",
       "    .dataframe thead th {\n",
       "        text-align: right;\n",
       "    }\n",
       "</style>\n",
       "<table border=\"1\" class=\"dataframe\">\n",
       "  <thead>\n",
       "    <tr style=\"text-align: right;\">\n",
       "      <th></th>\n",
       "      <th>Hours_Studied</th>\n",
       "      <th>Attendance</th>\n",
       "      <th>Parental_Involvement</th>\n",
       "      <th>Access_to_Resources</th>\n",
       "      <th>Extracurricular_Activities</th>\n",
       "      <th>Sleep_Hours</th>\n",
       "      <th>Previous_Scores</th>\n",
       "      <th>Motivation_Level</th>\n",
       "      <th>Internet_Access</th>\n",
       "      <th>Tutoring_Sessions</th>\n",
       "      <th>Family_Income</th>\n",
       "      <th>Teacher_Quality</th>\n",
       "      <th>School_Type</th>\n",
       "      <th>Peer_Influence</th>\n",
       "      <th>Physical_Activity</th>\n",
       "      <th>Learning_Disabilities</th>\n",
       "      <th>Parental_Education_Level</th>\n",
       "      <th>Distance_from_Home</th>\n",
       "      <th>Gender</th>\n",
       "      <th>Exam_Score</th>\n",
       "    </tr>\n",
       "  </thead>\n",
       "  <tbody>\n",
       "    <tr>\n",
       "      <th>6602</th>\n",
       "      <td>25</td>\n",
       "      <td>69</td>\n",
       "      <td>High</td>\n",
       "      <td>Medium</td>\n",
       "      <td>No</td>\n",
       "      <td>7</td>\n",
       "      <td>76</td>\n",
       "      <td>Medium</td>\n",
       "      <td>Yes</td>\n",
       "      <td>1</td>\n",
       "      <td>High</td>\n",
       "      <td>Medium</td>\n",
       "      <td>Public</td>\n",
       "      <td>Positive</td>\n",
       "      <td>2</td>\n",
       "      <td>No</td>\n",
       "      <td>High School</td>\n",
       "      <td>Near</td>\n",
       "      <td>Female</td>\n",
       "      <td>68</td>\n",
       "    </tr>\n",
       "    <tr>\n",
       "      <th>6603</th>\n",
       "      <td>23</td>\n",
       "      <td>76</td>\n",
       "      <td>High</td>\n",
       "      <td>Medium</td>\n",
       "      <td>No</td>\n",
       "      <td>8</td>\n",
       "      <td>81</td>\n",
       "      <td>Medium</td>\n",
       "      <td>Yes</td>\n",
       "      <td>3</td>\n",
       "      <td>Low</td>\n",
       "      <td>High</td>\n",
       "      <td>Public</td>\n",
       "      <td>Positive</td>\n",
       "      <td>2</td>\n",
       "      <td>No</td>\n",
       "      <td>High School</td>\n",
       "      <td>Near</td>\n",
       "      <td>Female</td>\n",
       "      <td>69</td>\n",
       "    </tr>\n",
       "    <tr>\n",
       "      <th>6604</th>\n",
       "      <td>20</td>\n",
       "      <td>90</td>\n",
       "      <td>Medium</td>\n",
       "      <td>Low</td>\n",
       "      <td>Yes</td>\n",
       "      <td>6</td>\n",
       "      <td>65</td>\n",
       "      <td>Low</td>\n",
       "      <td>Yes</td>\n",
       "      <td>3</td>\n",
       "      <td>Low</td>\n",
       "      <td>Medium</td>\n",
       "      <td>Public</td>\n",
       "      <td>Negative</td>\n",
       "      <td>2</td>\n",
       "      <td>No</td>\n",
       "      <td>Postgraduate</td>\n",
       "      <td>Near</td>\n",
       "      <td>Female</td>\n",
       "      <td>68</td>\n",
       "    </tr>\n",
       "    <tr>\n",
       "      <th>6605</th>\n",
       "      <td>10</td>\n",
       "      <td>86</td>\n",
       "      <td>High</td>\n",
       "      <td>High</td>\n",
       "      <td>Yes</td>\n",
       "      <td>6</td>\n",
       "      <td>91</td>\n",
       "      <td>High</td>\n",
       "      <td>Yes</td>\n",
       "      <td>2</td>\n",
       "      <td>Low</td>\n",
       "      <td>Medium</td>\n",
       "      <td>Private</td>\n",
       "      <td>Positive</td>\n",
       "      <td>3</td>\n",
       "      <td>No</td>\n",
       "      <td>High School</td>\n",
       "      <td>Far</td>\n",
       "      <td>Female</td>\n",
       "      <td>68</td>\n",
       "    </tr>\n",
       "    <tr>\n",
       "      <th>6606</th>\n",
       "      <td>15</td>\n",
       "      <td>67</td>\n",
       "      <td>Medium</td>\n",
       "      <td>Low</td>\n",
       "      <td>Yes</td>\n",
       "      <td>9</td>\n",
       "      <td>94</td>\n",
       "      <td>Medium</td>\n",
       "      <td>Yes</td>\n",
       "      <td>0</td>\n",
       "      <td>Medium</td>\n",
       "      <td>Medium</td>\n",
       "      <td>Public</td>\n",
       "      <td>Positive</td>\n",
       "      <td>4</td>\n",
       "      <td>No</td>\n",
       "      <td>Postgraduate</td>\n",
       "      <td>Near</td>\n",
       "      <td>Male</td>\n",
       "      <td>64</td>\n",
       "    </tr>\n",
       "  </tbody>\n",
       "</table>\n",
       "</div>"
      ],
      "text/plain": [
       "      Hours_Studied  Attendance Parental_Involvement Access_to_Resources  \\\n",
       "6602             25          69                 High              Medium   \n",
       "6603             23          76                 High              Medium   \n",
       "6604             20          90               Medium                 Low   \n",
       "6605             10          86                 High                High   \n",
       "6606             15          67               Medium                 Low   \n",
       "\n",
       "     Extracurricular_Activities  Sleep_Hours  Previous_Scores  \\\n",
       "6602                         No            7               76   \n",
       "6603                         No            8               81   \n",
       "6604                        Yes            6               65   \n",
       "6605                        Yes            6               91   \n",
       "6606                        Yes            9               94   \n",
       "\n",
       "     Motivation_Level Internet_Access  Tutoring_Sessions Family_Income  \\\n",
       "6602           Medium             Yes                  1          High   \n",
       "6603           Medium             Yes                  3           Low   \n",
       "6604              Low             Yes                  3           Low   \n",
       "6605             High             Yes                  2           Low   \n",
       "6606           Medium             Yes                  0        Medium   \n",
       "\n",
       "     Teacher_Quality School_Type Peer_Influence  Physical_Activity  \\\n",
       "6602          Medium      Public       Positive                  2   \n",
       "6603            High      Public       Positive                  2   \n",
       "6604          Medium      Public       Negative                  2   \n",
       "6605          Medium     Private       Positive                  3   \n",
       "6606          Medium      Public       Positive                  4   \n",
       "\n",
       "     Learning_Disabilities Parental_Education_Level Distance_from_Home  \\\n",
       "6602                    No              High School               Near   \n",
       "6603                    No              High School               Near   \n",
       "6604                    No             Postgraduate               Near   \n",
       "6605                    No              High School                Far   \n",
       "6606                    No             Postgraduate               Near   \n",
       "\n",
       "      Gender  Exam_Score  \n",
       "6602  Female          68  \n",
       "6603  Female          69  \n",
       "6604  Female          68  \n",
       "6605  Female          68  \n",
       "6606    Male          64  "
      ]
     },
     "execution_count": 3,
     "metadata": {},
     "output_type": "execute_result"
    }
   ],
   "source": [
    "df.tail(5)\n",
    "\n",
    "# df: variable yang berisi method/fungsi read dari library pandas untuk membaca file\n",
    "# .tail : gunakan fungsi  tail untuk  mengambil  data terbawah"
   ]
  },
  {
   "cell_type": "markdown",
   "id": "d338eacc",
   "metadata": {},
   "source": [
    "4. Cek tipe data dari atribut/fitur/variabel"
   ]
  },
  {
   "cell_type": "code",
   "execution_count": 4,
   "id": "8f51a3b6",
   "metadata": {},
   "outputs": [
    {
     "data": {
      "application/vnd.microsoft.datawrangler.viewer.v0+json": {
       "columns": [
        {
         "name": "index",
         "rawType": "object",
         "type": "string"
        },
        {
         "name": "0",
         "rawType": "object",
         "type": "unknown"
        }
       ],
       "ref": "940d2353-fcfe-4a79-9842-637b260c6f79",
       "rows": [
        [
         "Hours_Studied",
         "int64"
        ],
        [
         "Attendance",
         "int64"
        ],
        [
         "Parental_Involvement",
         "object"
        ],
        [
         "Access_to_Resources",
         "object"
        ],
        [
         "Extracurricular_Activities",
         "object"
        ],
        [
         "Sleep_Hours",
         "int64"
        ],
        [
         "Previous_Scores",
         "int64"
        ],
        [
         "Motivation_Level",
         "object"
        ],
        [
         "Internet_Access",
         "object"
        ],
        [
         "Tutoring_Sessions",
         "int64"
        ],
        [
         "Family_Income",
         "object"
        ],
        [
         "Teacher_Quality",
         "object"
        ],
        [
         "School_Type",
         "object"
        ],
        [
         "Peer_Influence",
         "object"
        ],
        [
         "Physical_Activity",
         "int64"
        ],
        [
         "Learning_Disabilities",
         "object"
        ],
        [
         "Parental_Education_Level",
         "object"
        ],
        [
         "Distance_from_Home",
         "object"
        ],
        [
         "Gender",
         "object"
        ],
        [
         "Exam_Score",
         "int64"
        ]
       ],
       "shape": {
        "columns": 1,
        "rows": 20
       }
      },
      "text/plain": [
       "Hours_Studied                  int64\n",
       "Attendance                     int64\n",
       "Parental_Involvement          object\n",
       "Access_to_Resources           object\n",
       "Extracurricular_Activities    object\n",
       "Sleep_Hours                    int64\n",
       "Previous_Scores                int64\n",
       "Motivation_Level              object\n",
       "Internet_Access               object\n",
       "Tutoring_Sessions              int64\n",
       "Family_Income                 object\n",
       "Teacher_Quality               object\n",
       "School_Type                   object\n",
       "Peer_Influence                object\n",
       "Physical_Activity              int64\n",
       "Learning_Disabilities         object\n",
       "Parental_Education_Level      object\n",
       "Distance_from_Home            object\n",
       "Gender                        object\n",
       "Exam_Score                     int64\n",
       "dtype: object"
      ]
     },
     "execution_count": 4,
     "metadata": {},
     "output_type": "execute_result"
    }
   ],
   "source": [
    "df.dtypes\n",
    "\n",
    "# df: variable yang berisi method/read dari library pandas untuk membaca file\n",
    "# dtypes : melihat tipe data dari setiap kolom"
   ]
  },
  {
   "cell_type": "markdown",
   "id": "a083f680",
   "metadata": {},
   "source": [
    "5. droping (hilangkan) atribut/fitur yang tidak relevan"
   ]
  },
  {
   "cell_type": "code",
   "execution_count": 5,
   "id": "a3f97fc3",
   "metadata": {},
   "outputs": [
    {
     "data": {
      "application/vnd.microsoft.datawrangler.viewer.v0+json": {
       "columns": [
        {
         "name": "index",
         "rawType": "int64",
         "type": "integer"
        },
        {
         "name": "Hours_Studied",
         "rawType": "int64",
         "type": "integer"
        },
        {
         "name": "Attendance",
         "rawType": "int64",
         "type": "integer"
        },
        {
         "name": "Parental_Involvement",
         "rawType": "object",
         "type": "string"
        },
        {
         "name": "Access_to_Resources",
         "rawType": "object",
         "type": "string"
        },
        {
         "name": "Extracurricular_Activities",
         "rawType": "object",
         "type": "string"
        },
        {
         "name": "Sleep_Hours",
         "rawType": "int64",
         "type": "integer"
        },
        {
         "name": "Previous_Scores",
         "rawType": "int64",
         "type": "integer"
        },
        {
         "name": "Motivation_Level",
         "rawType": "object",
         "type": "string"
        },
        {
         "name": "Internet_Access",
         "rawType": "object",
         "type": "string"
        },
        {
         "name": "Tutoring_Sessions",
         "rawType": "int64",
         "type": "integer"
        },
        {
         "name": "Family_Income",
         "rawType": "object",
         "type": "string"
        },
        {
         "name": "Teacher_Quality",
         "rawType": "object",
         "type": "string"
        },
        {
         "name": "School_Type",
         "rawType": "object",
         "type": "string"
        },
        {
         "name": "Peer_Influence",
         "rawType": "object",
         "type": "string"
        },
        {
         "name": "Parental_Education_Level",
         "rawType": "object",
         "type": "string"
        },
        {
         "name": "Distance_from_Home",
         "rawType": "object",
         "type": "string"
        },
        {
         "name": "Gender",
         "rawType": "object",
         "type": "string"
        },
        {
         "name": "Exam_Score",
         "rawType": "int64",
         "type": "integer"
        }
       ],
       "ref": "c9bafcdb-1c4c-4015-8f6c-75b6dbfabb6b",
       "rows": [
        [
         "0",
         "23",
         "84",
         "Low",
         "High",
         "No",
         "7",
         "73",
         "Low",
         "Yes",
         "0",
         "Low",
         "Medium",
         "Public",
         "Positive",
         "High School",
         "Near",
         "Male",
         "67"
        ],
        [
         "1",
         "19",
         "64",
         "Low",
         "Medium",
         "No",
         "8",
         "59",
         "Low",
         "Yes",
         "2",
         "Medium",
         "Medium",
         "Public",
         "Negative",
         "College",
         "Moderate",
         "Female",
         "61"
        ],
        [
         "2",
         "24",
         "98",
         "Medium",
         "Medium",
         "Yes",
         "7",
         "91",
         "Medium",
         "Yes",
         "2",
         "Medium",
         "Medium",
         "Public",
         "Neutral",
         "Postgraduate",
         "Near",
         "Male",
         "74"
        ],
        [
         "3",
         "29",
         "89",
         "Low",
         "Medium",
         "Yes",
         "8",
         "98",
         "Medium",
         "Yes",
         "1",
         "Medium",
         "Medium",
         "Public",
         "Negative",
         "High School",
         "Moderate",
         "Male",
         "71"
        ],
        [
         "4",
         "19",
         "92",
         "Medium",
         "Medium",
         "Yes",
         "6",
         "65",
         "Medium",
         "Yes",
         "3",
         "Medium",
         "High",
         "Public",
         "Neutral",
         "College",
         "Near",
         "Female",
         "70"
        ]
       ],
       "shape": {
        "columns": 18,
        "rows": 5
       }
      },
      "text/html": [
       "<div>\n",
       "<style scoped>\n",
       "    .dataframe tbody tr th:only-of-type {\n",
       "        vertical-align: middle;\n",
       "    }\n",
       "\n",
       "    .dataframe tbody tr th {\n",
       "        vertical-align: top;\n",
       "    }\n",
       "\n",
       "    .dataframe thead th {\n",
       "        text-align: right;\n",
       "    }\n",
       "</style>\n",
       "<table border=\"1\" class=\"dataframe\">\n",
       "  <thead>\n",
       "    <tr style=\"text-align: right;\">\n",
       "      <th></th>\n",
       "      <th>Hours_Studied</th>\n",
       "      <th>Attendance</th>\n",
       "      <th>Parental_Involvement</th>\n",
       "      <th>Access_to_Resources</th>\n",
       "      <th>Extracurricular_Activities</th>\n",
       "      <th>Sleep_Hours</th>\n",
       "      <th>Previous_Scores</th>\n",
       "      <th>Motivation_Level</th>\n",
       "      <th>Internet_Access</th>\n",
       "      <th>Tutoring_Sessions</th>\n",
       "      <th>Family_Income</th>\n",
       "      <th>Teacher_Quality</th>\n",
       "      <th>School_Type</th>\n",
       "      <th>Peer_Influence</th>\n",
       "      <th>Parental_Education_Level</th>\n",
       "      <th>Distance_from_Home</th>\n",
       "      <th>Gender</th>\n",
       "      <th>Exam_Score</th>\n",
       "    </tr>\n",
       "  </thead>\n",
       "  <tbody>\n",
       "    <tr>\n",
       "      <th>0</th>\n",
       "      <td>23</td>\n",
       "      <td>84</td>\n",
       "      <td>Low</td>\n",
       "      <td>High</td>\n",
       "      <td>No</td>\n",
       "      <td>7</td>\n",
       "      <td>73</td>\n",
       "      <td>Low</td>\n",
       "      <td>Yes</td>\n",
       "      <td>0</td>\n",
       "      <td>Low</td>\n",
       "      <td>Medium</td>\n",
       "      <td>Public</td>\n",
       "      <td>Positive</td>\n",
       "      <td>High School</td>\n",
       "      <td>Near</td>\n",
       "      <td>Male</td>\n",
       "      <td>67</td>\n",
       "    </tr>\n",
       "    <tr>\n",
       "      <th>1</th>\n",
       "      <td>19</td>\n",
       "      <td>64</td>\n",
       "      <td>Low</td>\n",
       "      <td>Medium</td>\n",
       "      <td>No</td>\n",
       "      <td>8</td>\n",
       "      <td>59</td>\n",
       "      <td>Low</td>\n",
       "      <td>Yes</td>\n",
       "      <td>2</td>\n",
       "      <td>Medium</td>\n",
       "      <td>Medium</td>\n",
       "      <td>Public</td>\n",
       "      <td>Negative</td>\n",
       "      <td>College</td>\n",
       "      <td>Moderate</td>\n",
       "      <td>Female</td>\n",
       "      <td>61</td>\n",
       "    </tr>\n",
       "    <tr>\n",
       "      <th>2</th>\n",
       "      <td>24</td>\n",
       "      <td>98</td>\n",
       "      <td>Medium</td>\n",
       "      <td>Medium</td>\n",
       "      <td>Yes</td>\n",
       "      <td>7</td>\n",
       "      <td>91</td>\n",
       "      <td>Medium</td>\n",
       "      <td>Yes</td>\n",
       "      <td>2</td>\n",
       "      <td>Medium</td>\n",
       "      <td>Medium</td>\n",
       "      <td>Public</td>\n",
       "      <td>Neutral</td>\n",
       "      <td>Postgraduate</td>\n",
       "      <td>Near</td>\n",
       "      <td>Male</td>\n",
       "      <td>74</td>\n",
       "    </tr>\n",
       "    <tr>\n",
       "      <th>3</th>\n",
       "      <td>29</td>\n",
       "      <td>89</td>\n",
       "      <td>Low</td>\n",
       "      <td>Medium</td>\n",
       "      <td>Yes</td>\n",
       "      <td>8</td>\n",
       "      <td>98</td>\n",
       "      <td>Medium</td>\n",
       "      <td>Yes</td>\n",
       "      <td>1</td>\n",
       "      <td>Medium</td>\n",
       "      <td>Medium</td>\n",
       "      <td>Public</td>\n",
       "      <td>Negative</td>\n",
       "      <td>High School</td>\n",
       "      <td>Moderate</td>\n",
       "      <td>Male</td>\n",
       "      <td>71</td>\n",
       "    </tr>\n",
       "    <tr>\n",
       "      <th>4</th>\n",
       "      <td>19</td>\n",
       "      <td>92</td>\n",
       "      <td>Medium</td>\n",
       "      <td>Medium</td>\n",
       "      <td>Yes</td>\n",
       "      <td>6</td>\n",
       "      <td>65</td>\n",
       "      <td>Medium</td>\n",
       "      <td>Yes</td>\n",
       "      <td>3</td>\n",
       "      <td>Medium</td>\n",
       "      <td>High</td>\n",
       "      <td>Public</td>\n",
       "      <td>Neutral</td>\n",
       "      <td>College</td>\n",
       "      <td>Near</td>\n",
       "      <td>Female</td>\n",
       "      <td>70</td>\n",
       "    </tr>\n",
       "  </tbody>\n",
       "</table>\n",
       "</div>"
      ],
      "text/plain": [
       "   Hours_Studied  Attendance Parental_Involvement Access_to_Resources  \\\n",
       "0             23          84                  Low                High   \n",
       "1             19          64                  Low              Medium   \n",
       "2             24          98               Medium              Medium   \n",
       "3             29          89                  Low              Medium   \n",
       "4             19          92               Medium              Medium   \n",
       "\n",
       "  Extracurricular_Activities  Sleep_Hours  Previous_Scores Motivation_Level  \\\n",
       "0                         No            7               73              Low   \n",
       "1                         No            8               59              Low   \n",
       "2                        Yes            7               91           Medium   \n",
       "3                        Yes            8               98           Medium   \n",
       "4                        Yes            6               65           Medium   \n",
       "\n",
       "  Internet_Access  Tutoring_Sessions Family_Income Teacher_Quality  \\\n",
       "0             Yes                  0           Low          Medium   \n",
       "1             Yes                  2        Medium          Medium   \n",
       "2             Yes                  2        Medium          Medium   \n",
       "3             Yes                  1        Medium          Medium   \n",
       "4             Yes                  3        Medium            High   \n",
       "\n",
       "  School_Type Peer_Influence Parental_Education_Level Distance_from_Home  \\\n",
       "0      Public       Positive              High School               Near   \n",
       "1      Public       Negative                  College           Moderate   \n",
       "2      Public        Neutral             Postgraduate               Near   \n",
       "3      Public       Negative              High School           Moderate   \n",
       "4      Public        Neutral                  College               Near   \n",
       "\n",
       "   Gender  Exam_Score  \n",
       "0    Male          67  \n",
       "1  Female          61  \n",
       "2    Male          74  \n",
       "3    Male          71  \n",
       "4  Female          70  "
      ]
     },
     "execution_count": 5,
     "metadata": {},
     "output_type": "execute_result"
    }
   ],
   "source": [
    "df = df.drop (['Learning_Disabilities', 'Physical_Activity'],axis=1)\n",
    "df.head(5)  \n",
    "\n",
    "# df (setelah =, berdampingan dengam .drop): variable yang berisi method/fungsi read dari library pandas untuk membaca file\n",
    "# drop (['atribut1', '1tribut2',....]) : salah satu  fungsi dari  library pandas untuk menghilangkan atribut\n",
    "# axis=1 : parameter menargetkan kolom (karena hendak menghapus beberapa atribut yang berupa kolom maka gunnakan parameter axis=1), kalau axis=0 : menargetkan baris\n",
    "# df: variable lama yang sebgaja digunakan kembali  untuk menyimpan variabel df lama dan fungsi drop, sekaligus menyimpan hasil dari aktivitas method drop.\n",
    "# .head() : menampilkan data teratas"
   ]
  },
  {
   "cell_type": "markdown",
   "id": "03efd20f",
   "metadata": {},
   "source": [
    "6. Renaming kolom \n",
    "\n",
    "kenapa? karena atribut/fitur dataset yang berasal dari database atau penyimpanan asal itu biasanya tidak sesuai dengan nama yang kita inginkan. kenapa bisa begitu? karena rata-rata programer yang menyusun web dengan integrasi data itu memberikan nama yang singkat atau nama-nama yang menurut mereka lebih mudah untuk dev."
   ]
  },
  {
   "cell_type": "code",
   "execution_count": 6,
   "id": "bc535eae",
   "metadata": {},
   "outputs": [],
   "source": [
    "\n",
    "# misal jika ada perubahan nama atribut\n",
    "# df = df.rename(columns={\"Attendance\":\"Kehadiran\",\"atribut_lama\": \"atribut_baru\",.....})\n",
    "# df.head(5)\n",
    "\n",
    "# tapi disini saya tidak perlu merubah nama atribut karena nama dari atribut yang sudah ada sudah cukup jelas, jadi saya hanya memberikan contoh saja\n",
    "#ket\n",
    "# df (sebelah kiri = itu sengaja memakai variable lama, tetapi diupdate dengan data yang sudah di rename) : nama varibael yang menyimpan dfd (data frame yang sudah di drop) dan method/fungsi rename dari pandas.\n",
    "# df (sebelah kiri = itu memang variable lama, untuk dilakukan method rename).\n",
    "#  .head() : menampilkan data teratas"
   ]
  },
  {
   "cell_type": "markdown",
   "id": "acaa8ef5",
   "metadata": {},
   "source": [
    "7. Drop row yang duplikat kenapa? karena data tidak hanya secara kuantitas banyak tetapi juga secara kualitas harus unik. jika datanya banyak tapi banyak yang sama atau duplikat maka data tidak berkualitas, sehingga perlu melakukan dropping data yang duplikat. contoh, kita hendak mengukur tinggi penguin di kutub selatan dengan tinggi semua penguin sama dan tidak jauh berbeda maka meskipun kita mengukur sangat banyak penguin dengan tingginya itu rata-rata semuanya sama maka data tinggi pinguin tidak berkualitas karena ngapain kita banyak penguin padahal kita melihat kalau tinggi penguin itu rata-rata sama. data, banyak tapi sama maka dihitung satu.\n",
    "\n",
    "begitu juga sebaliknya, datanya unik  tapi tidak banyak sama saja  kita mencoba mengetahhui gelas hanya dari satu gelas saja padahal bentuk, jenis gelas itu beragam dan bayak.\n",
    "\n",
    "selain itu, mengahapus data duplikat yang ada akan membuat machine learning jadi labih cepat dan tidak lemot."
   ]
  },
  {
   "cell_type": "code",
   "execution_count": 7,
   "id": "84f3d9b7",
   "metadata": {},
   "outputs": [
    {
     "data": {
      "text/plain": [
       "(6607, 18)"
      ]
     },
     "execution_count": 7,
     "metadata": {},
     "output_type": "execute_result"
    }
   ],
   "source": [
    "# sebelum droping data yang duplikat kita cek dulu shape data frame untu jadi before\n",
    "\n",
    "df.shape\n",
    "\n",
    "# dfd : variabel  data fram yang sudah di drop, kalau kita melakukan rename maka bisaa panggil dfr.\n",
    "# .shape : method/fungsi dari library pandas untuk mengetahui baris dan kolom yang ada"
   ]
  },
  {
   "cell_type": "markdown",
   "id": "731ce085",
   "metadata": {},
   "source": [
    "terlihat setelah dilakukan shaping, data frame yang saya miliki itu 6607 baris dan 10 kolom."
   ]
  },
  {
   "cell_type": "code",
   "execution_count": 8,
   "id": "f62c37c0",
   "metadata": {},
   "outputs": [
    {
     "name": "stdout",
     "output_type": "stream",
     "text": [
      "Jumlah baris duplikat:  (0, 18)\n"
     ]
    }
   ],
   "source": [
    "# lanjut lihat data yang duplikat \n",
    "\n",
    "duplicated_rows = df[df.duplicated()]\n",
    "print(\"Jumlah baris duplikat: \", duplicated_rows.shape)\n",
    "\n",
    "# duplicate_rows: nama variabel yang menyimpan variabel df yang akan dilihat ada berapa data dalam row yang duplikat dengan menulis  baris kode ini [df.duplicated()].\n",
    "# .shape : method/fungsi dari library pandas untuk mengetahui baris dan kolom yang ada"
   ]
  },
  {
   "cell_type": "markdown",
   "id": "641c76f0",
   "metadata": {},
   "source": [
    "ternyata data  saya saya punya itu tidak ada yang duplikat, jadi saya tidak perlu melakukan droping data duplikat. tetapi jika ada data duplikat maka kita bisa melakukan droping data duplikat dengan kode df.drop_duplicates() yang nanti akan saya tulis. karena dari shape df yang ada itu (0, 18) 0 = tidak data yang duplikat, 18 = jumlah atribut yang ada pada df saya."
   ]
  },
  {
   "cell_type": "code",
   "execution_count": 9,
   "id": "2acca872",
   "metadata": {},
   "outputs": [
    {
     "data": {
      "application/vnd.microsoft.datawrangler.viewer.v0+json": {
       "columns": [
        {
         "name": "index",
         "rawType": "object",
         "type": "string"
        },
        {
         "name": "0",
         "rawType": "int64",
         "type": "integer"
        }
       ],
       "ref": "595307b8-f57d-447e-9d2e-44e47a6c1269",
       "rows": [
        [
         "Hours_Studied",
         "6607"
        ],
        [
         "Attendance",
         "6607"
        ],
        [
         "Parental_Involvement",
         "6607"
        ],
        [
         "Access_to_Resources",
         "6607"
        ],
        [
         "Extracurricular_Activities",
         "6607"
        ],
        [
         "Sleep_Hours",
         "6607"
        ],
        [
         "Previous_Scores",
         "6607"
        ],
        [
         "Motivation_Level",
         "6607"
        ],
        [
         "Internet_Access",
         "6607"
        ],
        [
         "Tutoring_Sessions",
         "6607"
        ],
        [
         "Family_Income",
         "6607"
        ],
        [
         "Teacher_Quality",
         "6529"
        ],
        [
         "School_Type",
         "6607"
        ],
        [
         "Peer_Influence",
         "6607"
        ],
        [
         "Parental_Education_Level",
         "6517"
        ],
        [
         "Distance_from_Home",
         "6540"
        ],
        [
         "Gender",
         "6607"
        ],
        [
         "Exam_Score",
         "6607"
        ]
       ],
       "shape": {
        "columns": 1,
        "rows": 18
       }
      },
      "text/plain": [
       "Hours_Studied                 6607\n",
       "Attendance                    6607\n",
       "Parental_Involvement          6607\n",
       "Access_to_Resources           6607\n",
       "Extracurricular_Activities    6607\n",
       "Sleep_Hours                   6607\n",
       "Previous_Scores               6607\n",
       "Motivation_Level              6607\n",
       "Internet_Access               6607\n",
       "Tutoring_Sessions             6607\n",
       "Family_Income                 6607\n",
       "Teacher_Quality               6529\n",
       "School_Type                   6607\n",
       "Peer_Influence                6607\n",
       "Parental_Education_Level      6517\n",
       "Distance_from_Home            6540\n",
       "Gender                        6607\n",
       "Exam_Score                    6607\n",
       "dtype: int64"
      ]
     },
     "execution_count": 9,
     "metadata": {},
     "output_type": "execute_result"
    }
   ],
   "source": [
    "# sebelum mencontohkan droping data duplikat, saya coba cek total row yang ada dalam df \n",
    "df.count()"
   ]
  },
  {
   "cell_type": "code",
   "execution_count": 14,
   "id": "5153f24e",
   "metadata": {},
   "outputs": [
    {
     "data": {
      "application/vnd.microsoft.datawrangler.viewer.v0+json": {
       "columns": [
        {
         "name": "index",
         "rawType": "int64",
         "type": "integer"
        },
        {
         "name": "Hours_Studied",
         "rawType": "int64",
         "type": "integer"
        },
        {
         "name": "Attendance",
         "rawType": "int64",
         "type": "integer"
        },
        {
         "name": "Parental_Involvement",
         "rawType": "object",
         "type": "string"
        },
        {
         "name": "Access_to_Resources",
         "rawType": "object",
         "type": "string"
        },
        {
         "name": "Extracurricular_Activities",
         "rawType": "object",
         "type": "string"
        },
        {
         "name": "Sleep_Hours",
         "rawType": "int64",
         "type": "integer"
        },
        {
         "name": "Previous_Scores",
         "rawType": "int64",
         "type": "integer"
        },
        {
         "name": "Motivation_Level",
         "rawType": "object",
         "type": "string"
        },
        {
         "name": "Internet_Access",
         "rawType": "object",
         "type": "string"
        },
        {
         "name": "Tutoring_Sessions",
         "rawType": "int64",
         "type": "integer"
        },
        {
         "name": "Family_Income",
         "rawType": "object",
         "type": "string"
        },
        {
         "name": "Teacher_Quality",
         "rawType": "object",
         "type": "string"
        },
        {
         "name": "School_Type",
         "rawType": "object",
         "type": "string"
        },
        {
         "name": "Peer_Influence",
         "rawType": "object",
         "type": "string"
        },
        {
         "name": "Parental_Education_Level",
         "rawType": "object",
         "type": "string"
        },
        {
         "name": "Distance_from_Home",
         "rawType": "object",
         "type": "string"
        },
        {
         "name": "Gender",
         "rawType": "object",
         "type": "string"
        },
        {
         "name": "Exam_Score",
         "rawType": "int64",
         "type": "integer"
        }
       ],
       "ref": "170e6b32-6e8a-4b04-9eb2-4b72372c7859",
       "rows": [
        [
         "0",
         "23",
         "84",
         "Low",
         "High",
         "No",
         "7",
         "73",
         "Low",
         "Yes",
         "0",
         "Low",
         "Medium",
         "Public",
         "Positive",
         "High School",
         "Near",
         "Male",
         "67"
        ],
        [
         "1",
         "19",
         "64",
         "Low",
         "Medium",
         "No",
         "8",
         "59",
         "Low",
         "Yes",
         "2",
         "Medium",
         "Medium",
         "Public",
         "Negative",
         "College",
         "Moderate",
         "Female",
         "61"
        ],
        [
         "2",
         "24",
         "98",
         "Medium",
         "Medium",
         "Yes",
         "7",
         "91",
         "Medium",
         "Yes",
         "2",
         "Medium",
         "Medium",
         "Public",
         "Neutral",
         "Postgraduate",
         "Near",
         "Male",
         "74"
        ],
        [
         "3",
         "29",
         "89",
         "Low",
         "Medium",
         "Yes",
         "8",
         "98",
         "Medium",
         "Yes",
         "1",
         "Medium",
         "Medium",
         "Public",
         "Negative",
         "High School",
         "Moderate",
         "Male",
         "71"
        ],
        [
         "4",
         "19",
         "92",
         "Medium",
         "Medium",
         "Yes",
         "6",
         "65",
         "Medium",
         "Yes",
         "3",
         "Medium",
         "High",
         "Public",
         "Neutral",
         "College",
         "Near",
         "Female",
         "70"
        ]
       ],
       "shape": {
        "columns": 18,
        "rows": 5
       }
      },
      "text/html": [
       "<div>\n",
       "<style scoped>\n",
       "    .dataframe tbody tr th:only-of-type {\n",
       "        vertical-align: middle;\n",
       "    }\n",
       "\n",
       "    .dataframe tbody tr th {\n",
       "        vertical-align: top;\n",
       "    }\n",
       "\n",
       "    .dataframe thead th {\n",
       "        text-align: right;\n",
       "    }\n",
       "</style>\n",
       "<table border=\"1\" class=\"dataframe\">\n",
       "  <thead>\n",
       "    <tr style=\"text-align: right;\">\n",
       "      <th></th>\n",
       "      <th>Hours_Studied</th>\n",
       "      <th>Attendance</th>\n",
       "      <th>Parental_Involvement</th>\n",
       "      <th>Access_to_Resources</th>\n",
       "      <th>Extracurricular_Activities</th>\n",
       "      <th>Sleep_Hours</th>\n",
       "      <th>Previous_Scores</th>\n",
       "      <th>Motivation_Level</th>\n",
       "      <th>Internet_Access</th>\n",
       "      <th>Tutoring_Sessions</th>\n",
       "      <th>Family_Income</th>\n",
       "      <th>Teacher_Quality</th>\n",
       "      <th>School_Type</th>\n",
       "      <th>Peer_Influence</th>\n",
       "      <th>Parental_Education_Level</th>\n",
       "      <th>Distance_from_Home</th>\n",
       "      <th>Gender</th>\n",
       "      <th>Exam_Score</th>\n",
       "    </tr>\n",
       "  </thead>\n",
       "  <tbody>\n",
       "    <tr>\n",
       "      <th>0</th>\n",
       "      <td>23</td>\n",
       "      <td>84</td>\n",
       "      <td>Low</td>\n",
       "      <td>High</td>\n",
       "      <td>No</td>\n",
       "      <td>7</td>\n",
       "      <td>73</td>\n",
       "      <td>Low</td>\n",
       "      <td>Yes</td>\n",
       "      <td>0</td>\n",
       "      <td>Low</td>\n",
       "      <td>Medium</td>\n",
       "      <td>Public</td>\n",
       "      <td>Positive</td>\n",
       "      <td>High School</td>\n",
       "      <td>Near</td>\n",
       "      <td>Male</td>\n",
       "      <td>67</td>\n",
       "    </tr>\n",
       "    <tr>\n",
       "      <th>1</th>\n",
       "      <td>19</td>\n",
       "      <td>64</td>\n",
       "      <td>Low</td>\n",
       "      <td>Medium</td>\n",
       "      <td>No</td>\n",
       "      <td>8</td>\n",
       "      <td>59</td>\n",
       "      <td>Low</td>\n",
       "      <td>Yes</td>\n",
       "      <td>2</td>\n",
       "      <td>Medium</td>\n",
       "      <td>Medium</td>\n",
       "      <td>Public</td>\n",
       "      <td>Negative</td>\n",
       "      <td>College</td>\n",
       "      <td>Moderate</td>\n",
       "      <td>Female</td>\n",
       "      <td>61</td>\n",
       "    </tr>\n",
       "    <tr>\n",
       "      <th>2</th>\n",
       "      <td>24</td>\n",
       "      <td>98</td>\n",
       "      <td>Medium</td>\n",
       "      <td>Medium</td>\n",
       "      <td>Yes</td>\n",
       "      <td>7</td>\n",
       "      <td>91</td>\n",
       "      <td>Medium</td>\n",
       "      <td>Yes</td>\n",
       "      <td>2</td>\n",
       "      <td>Medium</td>\n",
       "      <td>Medium</td>\n",
       "      <td>Public</td>\n",
       "      <td>Neutral</td>\n",
       "      <td>Postgraduate</td>\n",
       "      <td>Near</td>\n",
       "      <td>Male</td>\n",
       "      <td>74</td>\n",
       "    </tr>\n",
       "    <tr>\n",
       "      <th>3</th>\n",
       "      <td>29</td>\n",
       "      <td>89</td>\n",
       "      <td>Low</td>\n",
       "      <td>Medium</td>\n",
       "      <td>Yes</td>\n",
       "      <td>8</td>\n",
       "      <td>98</td>\n",
       "      <td>Medium</td>\n",
       "      <td>Yes</td>\n",
       "      <td>1</td>\n",
       "      <td>Medium</td>\n",
       "      <td>Medium</td>\n",
       "      <td>Public</td>\n",
       "      <td>Negative</td>\n",
       "      <td>High School</td>\n",
       "      <td>Moderate</td>\n",
       "      <td>Male</td>\n",
       "      <td>71</td>\n",
       "    </tr>\n",
       "    <tr>\n",
       "      <th>4</th>\n",
       "      <td>19</td>\n",
       "      <td>92</td>\n",
       "      <td>Medium</td>\n",
       "      <td>Medium</td>\n",
       "      <td>Yes</td>\n",
       "      <td>6</td>\n",
       "      <td>65</td>\n",
       "      <td>Medium</td>\n",
       "      <td>Yes</td>\n",
       "      <td>3</td>\n",
       "      <td>Medium</td>\n",
       "      <td>High</td>\n",
       "      <td>Public</td>\n",
       "      <td>Neutral</td>\n",
       "      <td>College</td>\n",
       "      <td>Near</td>\n",
       "      <td>Female</td>\n",
       "      <td>70</td>\n",
       "    </tr>\n",
       "  </tbody>\n",
       "</table>\n",
       "</div>"
      ],
      "text/plain": [
       "   Hours_Studied  Attendance Parental_Involvement Access_to_Resources  \\\n",
       "0             23          84                  Low                High   \n",
       "1             19          64                  Low              Medium   \n",
       "2             24          98               Medium              Medium   \n",
       "3             29          89                  Low              Medium   \n",
       "4             19          92               Medium              Medium   \n",
       "\n",
       "  Extracurricular_Activities  Sleep_Hours  Previous_Scores Motivation_Level  \\\n",
       "0                         No            7               73              Low   \n",
       "1                         No            8               59              Low   \n",
       "2                        Yes            7               91           Medium   \n",
       "3                        Yes            8               98           Medium   \n",
       "4                        Yes            6               65           Medium   \n",
       "\n",
       "  Internet_Access  Tutoring_Sessions Family_Income Teacher_Quality  \\\n",
       "0             Yes                  0           Low          Medium   \n",
       "1             Yes                  2        Medium          Medium   \n",
       "2             Yes                  2        Medium          Medium   \n",
       "3             Yes                  1        Medium          Medium   \n",
       "4             Yes                  3        Medium            High   \n",
       "\n",
       "  School_Type Peer_Influence Parental_Education_Level Distance_from_Home  \\\n",
       "0      Public       Positive              High School               Near   \n",
       "1      Public       Negative                  College           Moderate   \n",
       "2      Public        Neutral             Postgraduate               Near   \n",
       "3      Public       Negative              High School           Moderate   \n",
       "4      Public        Neutral                  College               Near   \n",
       "\n",
       "   Gender  Exam_Score  \n",
       "0    Male          67  \n",
       "1  Female          61  \n",
       "2    Male          74  \n",
       "3    Male          71  \n",
       "4  Female          70  "
      ]
     },
     "execution_count": 14,
     "metadata": {},
     "output_type": "execute_result"
    }
   ],
   "source": [
    "# kebetulan dataset yang ada tidak ada data yang duplikat karena pada tahap sebelumnya sudah diketahui (0. 18) 0 duplikat dengan 18 kolom yang ada,  sehingga sebenarnya tidak perlu melakukan drop_duplicate. namun untuk mengingat dan sebagai catatan maka perlu untuk  menulis mekanismenya.\n",
    "\n",
    "df = df.drop_duplicates()\n",
    "df.head(5)\n",
    "\n",
    "\n",
    "\n",
    "\n",
    "# df : nama variabel (saya kembalikan lagi  ke  df agar lebih sederhana, penamaan variable bebas) yang menyimpan variable df yang akan dihapus data duplikatnya.\n",
    "# .drop_duplicate() : method/fungsi untuk menghapus data yang duplikat"
   ]
  },
  {
   "cell_type": "code",
   "execution_count": null,
   "id": "80c3716d",
   "metadata": {},
   "outputs": [
    {
     "data": {
      "application/vnd.microsoft.datawrangler.viewer.v0+json": {
       "columns": [
        {
         "name": "index",
         "rawType": "object",
         "type": "string"
        },
        {
         "name": "0",
         "rawType": "int64",
         "type": "integer"
        }
       ],
       "ref": "61a6b233-d9aa-4066-9a07-cd9bc283f5ec",
       "rows": [
        [
         "Hours_Studied",
         "6607"
        ],
        [
         "Attendance",
         "6607"
        ],
        [
         "Parental_Involvement",
         "6607"
        ],
        [
         "Access_to_Resources",
         "6607"
        ],
        [
         "Extracurricular_Activities",
         "6607"
        ],
        [
         "Sleep_Hours",
         "6607"
        ],
        [
         "Previous_Scores",
         "6607"
        ],
        [
         "Motivation_Level",
         "6607"
        ],
        [
         "Internet_Access",
         "6607"
        ],
        [
         "Tutoring_Sessions",
         "6607"
        ],
        [
         "Family_Income",
         "6607"
        ],
        [
         "Teacher_Quality",
         "6529"
        ],
        [
         "School_Type",
         "6607"
        ],
        [
         "Peer_Influence",
         "6607"
        ],
        [
         "Parental_Education_Level",
         "6517"
        ],
        [
         "Distance_from_Home",
         "6540"
        ],
        [
         "Gender",
         "6607"
        ],
        [
         "Exam_Score",
         "6607"
        ]
       ],
       "shape": {
        "columns": 1,
        "rows": 18
       }
      },
      "text/plain": [
       "Hours_Studied                 6607\n",
       "Attendance                    6607\n",
       "Parental_Involvement          6607\n",
       "Access_to_Resources           6607\n",
       "Extracurricular_Activities    6607\n",
       "Sleep_Hours                   6607\n",
       "Previous_Scores               6607\n",
       "Motivation_Level              6607\n",
       "Internet_Access               6607\n",
       "Tutoring_Sessions             6607\n",
       "Family_Income                 6607\n",
       "Teacher_Quality               6529\n",
       "School_Type                   6607\n",
       "Peer_Influence                6607\n",
       "Parental_Education_Level      6517\n",
       "Distance_from_Home            6540\n",
       "Gender                        6607\n",
       "Exam_Score                    6607\n",
       "dtype: int64"
      ]
     },
     "execution_count": 11,
     "metadata": {},
     "output_type": "execute_result"
    }
   ],
   "source": [
    "# coba cek lagi total row yang ada dalam df setelah drop duplicate\n",
    "\n",
    "df.count()\n",
    "\n",
    "# yap tidak ada perubahan karena memang tidak ada data yang duplikat."
   ]
  },
  {
   "cell_type": "markdown",
   "id": "74e63991",
   "metadata": {},
   "source": [
    "8. Dropping value yang hilang (missing value) dan value yang null\n",
    "kenapa? karana datanya banyak ada 6607 dengan 18 atribut/fitur dan data yang kosong juga biasanya sebuah keadaan yang secara objektif tidak perlu diisi, bisa saja data yang kosong itu adalah gaji yang penginput tidak ingin gajinya diketahui, sehingga untuk apa kita isi gaji penginput dengan kemauan kita yang belum tentu itu sesuai dengan gaji yang sebenarnya atau kita menebak-nebak. sehingga tidak perlu melakuka imputasi (mengisi data yang hilang atau null). namun memiliki kekurangan ketika menghapus value missing karena dengan menghapus value yang missing maka value-value yang lain yang satu baris yang juga berguna akan ikutan terhapus. jika seperti itu maka silahkan lakukan imputasi bisa dengan mengisi value yang hilang itu dengan mean (rata-rata), manual, data stati (missing value diisi denga data yang sama semua)."
   ]
  },
  {
   "cell_type": "code",
   "execution_count": null,
   "id": "fcc32d23",
   "metadata": {},
   "outputs": [
    {
     "name": "stdout",
     "output_type": "stream",
     "text": [
      "Hours_Studied                  0\n",
      "Attendance                     0\n",
      "Parental_Involvement           0\n",
      "Access_to_Resources            0\n",
      "Extracurricular_Activities     0\n",
      "Sleep_Hours                    0\n",
      "Previous_Scores                0\n",
      "Motivation_Level               0\n",
      "Internet_Access                0\n",
      "Tutoring_Sessions              0\n",
      "Family_Income                  0\n",
      "Teacher_Quality               78\n",
      "School_Type                    0\n",
      "Peer_Influence                 0\n",
      "Parental_Education_Level      90\n",
      "Distance_from_Home            67\n",
      "Gender                         0\n",
      "Exam_Score                     0\n",
      "dtype: int64\n"
     ]
    }
   ],
   "source": [
    "# cek dulu apakah ada data yang hilang (missing value) dalam dataset\n",
    "\n",
    "print(df.isnull().sum())\n",
    "\n",
    "\n",
    "# df : nama variable yang menyimpan data frame sebelumnya\n",
    "# .isnull() : method/fungsi pandas untuk memeriksa setiap sel di DataFrame df,\n",
    "#   -Jika sebuah sel kosong (berisi NaN, Null, None, dll.), ia akan menandainya sebagai True.\n",
    "#   -Jika sel tersebut berisi data, ia akan menandainya sebagai False.\n",
    "#   -Hasilnya adalah sebuah DataFrame baru yang ukurannya sama persis dengan df, tetapi hanya berisi True dan False.\n",
    "\n",
    "# .sum() : method untuk menjumlahkan semua nilai True untuk setiap kolom (karena secara default, .sum() bekerja secara vertikal, axis=0).\n",
    "#   -Dalam perhitungan, True dianggap sebagai 1 dan False sebagai 0.\n",
    "#   -Jadi, ini sama saja dengan menghitung jumlah data yang hilang (True) per kolom."
   ]
  },
  {
   "cell_type": "markdown",
   "id": "20dcb4ff",
   "metadata": {},
   "source": [
    "ternyata ada  yang  null atau missing value dalam df. yaitu :\n",
    "Teacher_Quality               78\n",
    "Parental_Education_Level      90\n",
    "Distance_from_Home            67"
   ]
  },
  {
   "cell_type": "code",
   "execution_count": 16,
   "id": "24f846e5",
   "metadata": {},
   "outputs": [
    {
     "data": {
      "application/vnd.microsoft.datawrangler.viewer.v0+json": {
       "columns": [
        {
         "name": "index",
         "rawType": "object",
         "type": "string"
        },
        {
         "name": "0",
         "rawType": "int64",
         "type": "integer"
        }
       ],
       "ref": "de0a6a18-c277-4c24-ae4e-018cdd9abde2",
       "rows": [
        [
         "Hours_Studied",
         "6378"
        ],
        [
         "Attendance",
         "6378"
        ],
        [
         "Parental_Involvement",
         "6378"
        ],
        [
         "Access_to_Resources",
         "6378"
        ],
        [
         "Extracurricular_Activities",
         "6378"
        ],
        [
         "Sleep_Hours",
         "6378"
        ],
        [
         "Previous_Scores",
         "6378"
        ],
        [
         "Motivation_Level",
         "6378"
        ],
        [
         "Internet_Access",
         "6378"
        ],
        [
         "Tutoring_Sessions",
         "6378"
        ],
        [
         "Family_Income",
         "6378"
        ],
        [
         "Teacher_Quality",
         "6378"
        ],
        [
         "School_Type",
         "6378"
        ],
        [
         "Peer_Influence",
         "6378"
        ],
        [
         "Parental_Education_Level",
         "6378"
        ],
        [
         "Distance_from_Home",
         "6378"
        ],
        [
         "Gender",
         "6378"
        ],
        [
         "Exam_Score",
         "6378"
        ]
       ],
       "shape": {
        "columns": 1,
        "rows": 18
       }
      },
      "text/plain": [
       "Hours_Studied                 6378\n",
       "Attendance                    6378\n",
       "Parental_Involvement          6378\n",
       "Access_to_Resources           6378\n",
       "Extracurricular_Activities    6378\n",
       "Sleep_Hours                   6378\n",
       "Previous_Scores               6378\n",
       "Motivation_Level              6378\n",
       "Internet_Access               6378\n",
       "Tutoring_Sessions             6378\n",
       "Family_Income                 6378\n",
       "Teacher_Quality               6378\n",
       "School_Type                   6378\n",
       "Peer_Influence                6378\n",
       "Parental_Education_Level      6378\n",
       "Distance_from_Home            6378\n",
       "Gender                        6378\n",
       "Exam_Score                    6378\n",
       "dtype: int64"
      ]
     },
     "execution_count": 16,
     "metadata": {},
     "output_type": "execute_result"
    }
   ],
   "source": [
    "# baru kita lakukan drop missing value \n",
    "\n",
    "df = df.dropna()\n",
    "df.count()\n",
    "\n",
    "# setalah drop missing value, terlihat semua data sama yaitu 6378. artinya mising value sudah tidak ada dalam dataset. "
   ]
  },
  {
   "cell_type": "code",
   "execution_count": 17,
   "id": "204d553d",
   "metadata": {},
   "outputs": [
    {
     "name": "stdout",
     "output_type": "stream",
     "text": [
      "Hours_Studied                 0\n",
      "Attendance                    0\n",
      "Parental_Involvement          0\n",
      "Access_to_Resources           0\n",
      "Extracurricular_Activities    0\n",
      "Sleep_Hours                   0\n",
      "Previous_Scores               0\n",
      "Motivation_Level              0\n",
      "Internet_Access               0\n",
      "Tutoring_Sessions             0\n",
      "Family_Income                 0\n",
      "Teacher_Quality               0\n",
      "School_Type                   0\n",
      "Peer_Influence                0\n",
      "Parental_Education_Level      0\n",
      "Distance_from_Home            0\n",
      "Gender                        0\n",
      "Exam_Score                    0\n",
      "dtype: int64\n"
     ]
    }
   ],
   "source": [
    "# untuk memastikan kembali, kita cek lagi missing value setelah dropna() \n",
    "\n",
    "print (df.isnull().sum())\n",
    "\n",
    "# yap setelah di drop missing value, value null 0 di dataset."
   ]
  },
  {
   "cell_type": "markdown",
   "id": "021d1345",
   "metadata": {},
   "source": [
    "9. Mendeteksi Outliers\n",
    "Outliers : data (data numerik bukan kategori/diskrit) yang berbeda secara keumuman. misal, kebanyakan data itu nilainya puluhan lalu ada satu, dua data yang nilainya ratusan atau bahkan ribuan, maka data yang nilainya ribuan itu disebut data outlier. atau sebaliknya, kebanyaka data itu ribuan tapi ada satu atau dua data yang nilainya puluhan bahkan satuan, maka data yang nilainya puluhan atau satuan itu disebut sebagai data outlier.\n",
    "kenapa harus mendeteksi? karena itu akan mengacaukan machine learning, maka harus dideteksi dan ditanggulangi. pada tahap ini akan melakukan deteksi terlebih dahulu dengan visualisai yang dibantu oleh library seaborn dan matplotlib."
   ]
  },
  {
   "cell_type": "code",
   "execution_count": null,
   "id": "a04d44fc",
   "metadata": {},
   "outputs": [
    {
     "data": {
      "image/png": "[encoded data removed]",
      "text/plain": [
       "<Figure size 1200x400 with 2 Axes>"
      ]
     },
     "metadata": {},
     "output_type": "display_data"
    }
   ],
   "source": [
    "f = plt.figure(figsize=(12,4))\n",
    "f.add_subplot(1,2,1)\n",
    "df['Exam_Score'].plot(kind='kde')\n",
    "f.add_subplot(1,2,2)\n",
    "plt.boxplot(df['Exam_Score'])\n",
    "plt.show()\n",
    "\n",
    "\n",
    "# Kode diats bertujuan untuk membuat satu gambar (figur) yang menampilkan dua plot berdampingan untuk menganalisis distribusi data dari kolom Exam_Score. Plot di sebelah kiri adalah KDE Plot, dan plot di sebelah kanan adalah Boxplot.\n",
    "# penjelasan kode!\n",
    "# f = plt.figure(figsize=(12,4))\n",
    "#   plt.figure(): Membuat sebuah \"kanvas\" atau figur kosong untuk menampung semua plot.\n",
    "#   figsize=(12, 4): Mengatur ukuran kanvas tersebut agar memiliki lebar 12 inci dan tinggi 4 inci.\n",
    "#   f = ...: Menyimpan kanvas/figur ini ke dalam variabel f agar kita bisa menambahkan plot ke dalamnya.\n",
    "# df['Exam_Score'].plot(kind='kde'): memerlukan library scypy, Untuk fungsi-fungsi yang lebih scientific atau statistik (seperti menghitung KDE),\n",
    "# f.add_subplot(1,2,1) \n",
    "#   f.add_subplot : perintah untuk menambahkan area plot (subplot) ke figur f.\n",
    "#   Angka (1,2,1) : \"Buat grid dengan 1 baris dan 2 kolom, lalu aktifkan area plot yang ke-1 (posisi kiri).\"\n",
    "# f.add_subplot(1,2,2)\n",
    "#   f.add_subplot : Perintah yang sama kembali memberi tahu matplotlib untuk menggunakan figur f untuk plot kedua sebelah kanan.\n",
    "#   Angka (1,2,2) : \"Gunakan grid 1 baris dan 2 kolom yang sama, tapi sekarang aktifkan area plot yang ke-2 (posisi kanan).\"\n",
    "# plt.boxplot(df['Exam_Score']) : Ini menggambar plot pada area yang baru saja diaktifkan (plot kanan).\n",
    "#   plt.boxplot(): Perintah untuk membuat Boxplot.\n",
    "#   df['Exam_Score']: Data yang digunakan untuk membuat boxplot tersebut. Boxplot sangat bagus untuk melihat median, jangkauan data (kuartil), dan outlier (nilai-nilai aneh).\n",
    "# plt.show() : Setelah semua plot ditambahkan ke figur f, perintah ini akhirnya menampilkan figur tersebut beserta kedua plot di dalamnya (KDE di kiri, Boxplot di kanan) ke layar Anda."
   ]
  },
  {
   "cell_type": "markdown",
   "id": "be648b77",
   "metadata": {},
   "source": [
    "terlihat bahwa pada atribut exam score memiliki data outlier yang banyak baik data yang hight ataupun yang low. cek boxplot sebelah kanan, diatas dan dibawah kotak ada garis horizontal sebagai batas bahwa lingkaran-lingkaran diatas dan dibawah garis tersebut adalah data outlier."
   ]
  },
  {
   "cell_type": "code",
   "execution_count": null,
   "id": "863a1134",
   "metadata": {},
   "outputs": [
    {
     "name": "stdout",
     "output_type": "stream",
     "text": [
      "Hours_Studied                 0\n",
      "Attendance                    0\n",
      "Parental_Involvement          0\n",
      "Access_to_Resources           0\n",
      "Extracurricular_Activities    0\n",
      "Sleep_Hours                   0\n",
      "Previous_Scores               0\n",
      "Motivation_Level              0\n",
      "Internet_Access               0\n",
      "Tutoring_Sessions             0\n",
      "Family_Income                 0\n",
      "Teacher_Quality               0\n",
      "School_Type                   0\n",
      "Peer_Influence                0\n",
      "Parental_Education_Level      0\n",
      "Distance_from_Home            0\n",
      "Gender                        0\n",
      "Exam_Score                    0\n",
      "dtype: int64\n"
     ]
    }
   ],
   "source": [
    "print (df.isnull().sum())"
   ]
  },
  {
   "cell_type": "code",
   "execution_count": null,
   "id": "381a984f",
   "metadata": {},
   "outputs": [
    {
     "data": {
      "text/plain": [
       "<Axes: xlabel='Hours_Studied'>"
      ]
     },
     "execution_count": 17,
     "metadata": {},
     "output_type": "execute_result"
    },
    {
     "data": {
      "image/png": "[encoded data removed]",
      "text/plain": [
       "<Figure size 640x480 with 1 Axes>"
      ]
     },
     "metadata": {},
     "output_type": "display_data"
    }
   ],
   "source": [
    "# lanjut coba atribut lain dengan bantuan visualisasi library seaborn\n",
    "\n",
    "sns.boxplot(x=df['Hours_Studied'])\n",
    "\n",
    "# sns: Ini adalah alias/as standar untuk library Seaborn, yang saya impor (misalnya import seaborn as sns).\n",
    "# .boxplot(): Ini adalah fungsi untuk memanggil Seaborn agar membuat visualisasi boxplot.\n",
    "# x=df['Hours_Studied']: Ini adalah bagian terpenting:\n",
    "#   df['Hours_Studied']: Anda memilih satu kolom (sebuah Series) bernama 'Hours_Studied' atau atribut lain yang coba dilihat data outliersnya dari DataFrame df.\n",
    "#   x=: memberi tahu Seaborn untuk memetakan data ini ke sumbu horizontal (sumbu x)."
   ]
  },
  {
   "cell_type": "markdown",
   "id": "a6747201",
   "metadata": {},
   "source": [
    "10. Analisis statistik sederhana (Uni, Bi, Multivariate)"
   ]
  },
  {
   "cell_type": "markdown",
   "id": "c2ded82b",
   "metadata": {},
   "source": [
    "a.  Univariate \n",
    "analisis hanya  pada satu atribut/fitur"
   ]
  },
  {
   "cell_type": "markdown",
   "id": "82b82232",
   "metadata": {},
   "source": []
  },
  {
   "cell_type": "code",
   "execution_count": null,
   "id": "14e8bf43",
   "metadata": {},
   "outputs": [
    {
     "data": {
      "application/vnd.microsoft.datawrangler.viewer.v0+json": {
       "columns": [
        {
         "name": "index",
         "rawType": "int64",
         "type": "integer"
        },
        {
         "name": "Hours_Studied",
         "rawType": "int64",
         "type": "integer"
        },
        {
         "name": "Attendance",
         "rawType": "int64",
         "type": "integer"
        },
        {
         "name": "Parental_Involvement",
         "rawType": "object",
         "type": "string"
        },
        {
         "name": "Access_to_Resources",
         "rawType": "object",
         "type": "string"
        },
        {
         "name": "Extracurricular_Activities",
         "rawType": "object",
         "type": "string"
        },
        {
         "name": "Sleep_Hours",
         "rawType": "int64",
         "type": "integer"
        },
        {
         "name": "Previous_Scores",
         "rawType": "int64",
         "type": "integer"
        },
        {
         "name": "Motivation_Level",
         "rawType": "object",
         "type": "string"
        },
        {
         "name": "Internet_Access",
         "rawType": "object",
         "type": "string"
        },
        {
         "name": "Tutoring_Sessions",
         "rawType": "int64",
         "type": "integer"
        },
        {
         "name": "Family_Income",
         "rawType": "object",
         "type": "string"
        },
        {
         "name": "Teacher_Quality",
         "rawType": "object",
         "type": "string"
        },
        {
         "name": "School_Type",
         "rawType": "object",
         "type": "string"
        },
        {
         "name": "Peer_Influence",
         "rawType": "object",
         "type": "string"
        },
        {
         "name": "Parental_Education_Level",
         "rawType": "object",
         "type": "string"
        },
        {
         "name": "Distance_from_Home",
         "rawType": "object",
         "type": "string"
        },
        {
         "name": "Gender",
         "rawType": "object",
         "type": "string"
        },
        {
         "name": "Exam_Score",
         "rawType": "int64",
         "type": "integer"
        }
       ],
       "ref": "a6755b2d-7f25-4491-af5a-eae2cee2eae3",
       "rows": [
        [
         "0",
         "23",
         "84",
         "Low",
         "High",
         "No",
         "7",
         "73",
         "Low",
         "Yes",
         "0",
         "Low",
         "Medium",
         "Public",
         "Positive",
         "High School",
         "Near",
         "Male",
         "67"
        ],
        [
         "1",
         "19",
         "64",
         "Low",
         "Medium",
         "No",
         "8",
         "59",
         "Low",
         "Yes",
         "2",
         "Medium",
         "Medium",
         "Public",
         "Negative",
         "College",
         "Moderate",
         "Female",
         "61"
        ],
        [
         "2",
         "24",
         "98",
         "Medium",
         "Medium",
         "Yes",
         "7",
         "91",
         "Medium",
         "Yes",
         "2",
         "Medium",
         "Medium",
         "Public",
         "Neutral",
         "Postgraduate",
         "Near",
         "Male",
         "74"
        ],
        [
         "3",
         "29",
         "89",
         "Low",
         "Medium",
         "Yes",
         "8",
         "98",
         "Medium",
         "Yes",
         "1",
         "Medium",
         "Medium",
         "Public",
         "Negative",
         "High School",
         "Moderate",
         "Male",
         "71"
        ],
        [
         "4",
         "19",
         "92",
         "Medium",
         "Medium",
         "Yes",
         "6",
         "65",
         "Medium",
         "Yes",
         "3",
         "Medium",
         "High",
         "Public",
         "Neutral",
         "College",
         "Near",
         "Female",
         "70"
        ]
       ],
       "shape": {
        "columns": 18,
        "rows": 5
       }
      },
      "text/html": [
       "<div>\n",
       "<style scoped>\n",
       "    .dataframe tbody tr th:only-of-type {\n",
       "        vertical-align: middle;\n",
       "    }\n",
       "\n",
       "    .dataframe tbody tr th {\n",
       "        vertical-align: top;\n",
       "    }\n",
       "\n",
       "    .dataframe thead th {\n",
       "        text-align: right;\n",
       "    }\n",
       "</style>\n",
       "<table border=\"1\" class=\"dataframe\">\n",
       "  <thead>\n",
       "    <tr style=\"text-align: right;\">\n",
       "      <th></th>\n",
       "      <th>Hours_Studied</th>\n",
       "      <th>Attendance</th>\n",
       "      <th>Parental_Involvement</th>\n",
       "      <th>Access_to_Resources</th>\n",
       "      <th>Extracurricular_Activities</th>\n",
       "      <th>Sleep_Hours</th>\n",
       "      <th>Previous_Scores</th>\n",
       "      <th>Motivation_Level</th>\n",
       "      <th>Internet_Access</th>\n",
       "      <th>Tutoring_Sessions</th>\n",
       "      <th>Family_Income</th>\n",
       "      <th>Teacher_Quality</th>\n",
       "      <th>School_Type</th>\n",
       "      <th>Peer_Influence</th>\n",
       "      <th>Parental_Education_Level</th>\n",
       "      <th>Distance_from_Home</th>\n",
       "      <th>Gender</th>\n",
       "      <th>Exam_Score</th>\n",
       "    </tr>\n",
       "  </thead>\n",
       "  <tbody>\n",
       "    <tr>\n",
       "      <th>0</th>\n",
       "      <td>23</td>\n",
       "      <td>84</td>\n",
       "      <td>Low</td>\n",
       "      <td>High</td>\n",
       "      <td>No</td>\n",
       "      <td>7</td>\n",
       "      <td>73</td>\n",
       "      <td>Low</td>\n",
       "      <td>Yes</td>\n",
       "      <td>0</td>\n",
       "      <td>Low</td>\n",
       "      <td>Medium</td>\n",
       "      <td>Public</td>\n",
       "      <td>Positive</td>\n",
       "      <td>High School</td>\n",
       "      <td>Near</td>\n",
       "      <td>Male</td>\n",
       "      <td>67</td>\n",
       "    </tr>\n",
       "    <tr>\n",
       "      <th>1</th>\n",
       "      <td>19</td>\n",
       "      <td>64</td>\n",
       "      <td>Low</td>\n",
       "      <td>Medium</td>\n",
       "      <td>No</td>\n",
       "      <td>8</td>\n",
       "      <td>59</td>\n",
       "      <td>Low</td>\n",
       "      <td>Yes</td>\n",
       "      <td>2</td>\n",
       "      <td>Medium</td>\n",
       "      <td>Medium</td>\n",
       "      <td>Public</td>\n",
       "      <td>Negative</td>\n",
       "      <td>College</td>\n",
       "      <td>Moderate</td>\n",
       "      <td>Female</td>\n",
       "      <td>61</td>\n",
       "    </tr>\n",
       "    <tr>\n",
       "      <th>2</th>\n",
       "      <td>24</td>\n",
       "      <td>98</td>\n",
       "      <td>Medium</td>\n",
       "      <td>Medium</td>\n",
       "      <td>Yes</td>\n",
       "      <td>7</td>\n",
       "      <td>91</td>\n",
       "      <td>Medium</td>\n",
       "      <td>Yes</td>\n",
       "      <td>2</td>\n",
       "      <td>Medium</td>\n",
       "      <td>Medium</td>\n",
       "      <td>Public</td>\n",
       "      <td>Neutral</td>\n",
       "      <td>Postgraduate</td>\n",
       "      <td>Near</td>\n",
       "      <td>Male</td>\n",
       "      <td>74</td>\n",
       "    </tr>\n",
       "    <tr>\n",
       "      <th>3</th>\n",
       "      <td>29</td>\n",
       "      <td>89</td>\n",
       "      <td>Low</td>\n",
       "      <td>Medium</td>\n",
       "      <td>Yes</td>\n",
       "      <td>8</td>\n",
       "      <td>98</td>\n",
       "      <td>Medium</td>\n",
       "      <td>Yes</td>\n",
       "      <td>1</td>\n",
       "      <td>Medium</td>\n",
       "      <td>Medium</td>\n",
       "      <td>Public</td>\n",
       "      <td>Negative</td>\n",
       "      <td>High School</td>\n",
       "      <td>Moderate</td>\n",
       "      <td>Male</td>\n",
       "      <td>71</td>\n",
       "    </tr>\n",
       "    <tr>\n",
       "      <th>4</th>\n",
       "      <td>19</td>\n",
       "      <td>92</td>\n",
       "      <td>Medium</td>\n",
       "      <td>Medium</td>\n",
       "      <td>Yes</td>\n",
       "      <td>6</td>\n",
       "      <td>65</td>\n",
       "      <td>Medium</td>\n",
       "      <td>Yes</td>\n",
       "      <td>3</td>\n",
       "      <td>Medium</td>\n",
       "      <td>High</td>\n",
       "      <td>Public</td>\n",
       "      <td>Neutral</td>\n",
       "      <td>College</td>\n",
       "      <td>Near</td>\n",
       "      <td>Female</td>\n",
       "      <td>70</td>\n",
       "    </tr>\n",
       "  </tbody>\n",
       "</table>\n",
       "</div>"
      ],
      "text/plain": [
       "   Hours_Studied  Attendance Parental_Involvement Access_to_Resources  \\\n",
       "0             23          84                  Low                High   \n",
       "1             19          64                  Low              Medium   \n",
       "2             24          98               Medium              Medium   \n",
       "3             29          89                  Low              Medium   \n",
       "4             19          92               Medium              Medium   \n",
       "\n",
       "  Extracurricular_Activities  Sleep_Hours  Previous_Scores Motivation_Level  \\\n",
       "0                         No            7               73              Low   \n",
       "1                         No            8               59              Low   \n",
       "2                        Yes            7               91           Medium   \n",
       "3                        Yes            8               98           Medium   \n",
       "4                        Yes            6               65           Medium   \n",
       "\n",
       "  Internet_Access  Tutoring_Sessions Family_Income Teacher_Quality  \\\n",
       "0             Yes                  0           Low          Medium   \n",
       "1             Yes                  2        Medium          Medium   \n",
       "2             Yes                  2        Medium          Medium   \n",
       "3             Yes                  1        Medium          Medium   \n",
       "4             Yes                  3        Medium            High   \n",
       "\n",
       "  School_Type Peer_Influence Parental_Education_Level Distance_from_Home  \\\n",
       "0      Public       Positive              High School               Near   \n",
       "1      Public       Negative                  College           Moderate   \n",
       "2      Public        Neutral             Postgraduate               Near   \n",
       "3      Public       Negative              High School           Moderate   \n",
       "4      Public        Neutral                  College               Near   \n",
       "\n",
       "   Gender  Exam_Score  \n",
       "0    Male          67  \n",
       "1  Female          61  \n",
       "2    Male          74  \n",
       "3    Male          71  \n",
       "4  Female          70  "
      ]
     },
     "execution_count": 18,
     "metadata": {},
     "output_type": "execute_result"
    }
   ],
   "source": [
    "# cek data frame terlebih dahulu supaya tidak  perlu scroll keatas untuk mencari atribut apa yang akan di analisis statistik sederhana\n",
    "\n",
    "df.head(5)"
   ]
  },
  {
   "cell_type": "code",
   "execution_count": null,
   "id": "90105af4",
   "metadata": {},
   "outputs": [
    {
     "data": {
      "application/vnd.microsoft.datawrangler.viewer.v0+json": {
       "columns": [
        {
         "name": "index",
         "rawType": "object",
         "type": "string"
        },
        {
         "name": "Hours_Studied",
         "rawType": "float64",
         "type": "float"
        }
       ],
       "ref": "99297be9-5637-450c-ac0e-54f497814786",
       "rows": [
        [
         "count",
         "6378.0"
        ],
        [
         "mean",
         "19.97710881153967"
        ],
        [
         "std",
         "5.985459589653109"
        ],
        [
         "min",
         "1.0"
        ],
        [
         "25%",
         "16.0"
        ],
        [
         "50%",
         "20.0"
        ],
        [
         "75%",
         "24.0"
        ],
        [
         "max",
         "44.0"
        ]
       ],
       "shape": {
        "columns": 1,
        "rows": 8
       }
      },
      "text/plain": [
       "count    6378.000000\n",
       "mean       19.977109\n",
       "std         5.985460\n",
       "min         1.000000\n",
       "25%        16.000000\n",
       "50%        20.000000\n",
       "75%        24.000000\n",
       "max        44.000000\n",
       "Name: Hours_Studied, dtype: float64"
      ]
     },
     "execution_count": 19,
     "metadata": {},
     "output_type": "execute_result"
    }
   ],
   "source": [
    "# lakukan deskripsi atribut terlebih dahulu\n",
    "\n",
    "df.Hours_Studied.describe()"
   ]
  },
  {
   "cell_type": "code",
   "execution_count": null,
   "id": "349a2292",
   "metadata": {},
   "outputs": [],
   "source": [
    "# terlihat dari atribut atribut/fitur hour studied ternyata ada siswa yang memiliki jam belajar 44 jam yang menjadi value max pada atribut hour studied dan 1 jam yang menjadi value min pada atribut hour studied."
   ]
  },
  {
   "cell_type": "code",
   "execution_count": null,
   "id": "11d1461c",
   "metadata": {},
   "outputs": [
    {
     "data": {
      "application/vnd.microsoft.datawrangler.viewer.v0+json": {
       "columns": [
        {
         "name": "index",
         "rawType": "object",
         "type": "string"
        },
        {
         "name": "Exam_Score",
         "rawType": "float64",
         "type": "float"
        }
       ],
       "ref": "6f4358dd-6314-435c-b463-77b96fc2b58b",
       "rows": [
        [
         "count",
         "6378.0"
        ],
        [
         "mean",
         "67.25211665098777"
        ],
        [
         "std",
         "3.914216506751209"
        ],
        [
         "min",
         "55.0"
        ],
        [
         "25%",
         "65.0"
        ],
        [
         "50%",
         "67.0"
        ],
        [
         "75%",
         "69.0"
        ],
        [
         "max",
         "101.0"
        ]
       ],
       "shape": {
        "columns": 1,
        "rows": 8
       }
      },
      "text/plain": [
       "count    6378.000000\n",
       "mean       67.252117\n",
       "std         3.914217\n",
       "min        55.000000\n",
       "25%        65.000000\n",
       "50%        67.000000\n",
       "75%        69.000000\n",
       "max       101.000000\n",
       "Name: Exam_Score, dtype: float64"
      ]
     },
     "execution_count": 21,
     "metadata": {},
     "output_type": "execute_result"
    }
   ],
   "source": [
    "# kita bisa analisis atribut/variabel lain\n",
    "\n",
    "df.Exam_Score.describe()"
   ]
  },
  {
   "cell_type": "code",
   "execution_count": null,
   "id": "cdcf06c7",
   "metadata": {},
   "outputs": [],
   "source": [
    "# Saya kurang paham sebenarnya terkait data set yang ada, kenapa? saya baru tahu kalau ada exam score yang lebih dari 100. bisa dicek di atas, terlihat bahwa value max dari atribut exam score adalah 101, berarti ada siswa yang mendapatkan exam score 101.\n",
    "# mungkin saya yang kurang paham sistem nilai exam scorenya seperti apa sehingga ada nilai 101, namun yang pasti dari sini kita bia melihat statistika dari masing-masing atribut dan ini sangat membantu kita untuk  mengecek bagaiamana kondisi masing-masing atribut."
   ]
  },
  {
   "cell_type": "code",
   "execution_count": null,
   "id": "249101a5",
   "metadata": {},
   "outputs": [
    {
     "data": {
      "image/png": "[encoded data removed]",
      "text/plain": [
       "<Figure size 1000x500 with 1 Axes>"
      ]
     },
     "metadata": {},
     "output_type": "display_data"
    }
   ],
   "source": [
    "df.Hours_Studied.value_counts().nlargest(40).plot(kind='bar', figsize=(10,5))\n",
    "plt.title(\"Number of Student by Hours Studied\") #-->judul plot bar \n",
    "plt.ylabel('Number of Student')                #-->label vertikal \n",
    "plt.xlabel('Hours Studied');            #-->label horizontal \n",
    "\n",
    "# deskripsi baris kode pertama\n",
    "\n",
    "# df.Hours_Studied\n",
    "#       Memilih satu kolom spesifik dari DataFrame (tabel data), yaitu kolom yang bernama Hours_Studied.\n",
    "# .value_counts()\n",
    "#       Fungsi ini menghitung frekuensi atau jumlah kemunculan setiap nilai unik di dalam kolom Hours_Studied.\n",
    "#       Misalnya, jika 50 siswa belajar 3 jam, 45 siswa belajar 4 jam, dan 30 siswa belajar 2 jam, hasilnya akan seperti: \n",
    "#       3: 50\n",
    "#       4: 45\n",
    "#       2: 30\n",
    "#       ...dan seterusnya.\n",
    "# .nlargest(40)\n",
    "#       Setelah mendapatkan hitungan (frekuensi) dari value_counts(), perintah ini mengambil 40 baris (bebas, tidak harus 40) dengan nilai hitungan (frekuensi) terbesar.\n",
    "#       Ini digunakan untuk memfilter agar plot hanya menampilkan 40 nilai Hours_Studied yang paling sering muncul di data.\n",
    "# .plot(kind='bar', figsize=(10,5))\n",
    "#       Ini adalah perintah akhir untuk membuat visualisasi (plot) dari 40 data teratas tadi.\n",
    "# kind='bar': Menentukan bahwa jenis plot yang diinginkan adalah diagram batang.\n",
    "# figsize=(10,5): Mengatur ukuran gambar plot (visualisasi) agar memiliki lebar 10 inci dan tinggi 5 inci. Ini dilakukan agar plot tidak terlalu kecil dan mudah dibaca."
   ]
  },
  {
   "cell_type": "code",
   "execution_count": null,
   "id": "a86c1900",
   "metadata": {},
   "outputs": [],
   "source": [
    "# Dari bar chart diatas terlihat bahwa 20 jam adalah jam belajar yang paling banyak dimiliki atau dilakukan oleh siswa. sekitar 460-470 siswa belajar selama 20 jam, urutan kedua 19 jam, urutan ketiga 21 jam dan seterusnya.c"
   ]
  },
  {
   "cell_type": "code",
   "execution_count": null,
   "id": "54ee7c63",
   "metadata": {},
   "outputs": [
    {
     "data": {
      "image/png": "[encoded data removed]",
      "text/plain": [
       "<Figure size 1000x500 with 1 Axes>"
      ]
     },
     "metadata": {},
     "output_type": "display_data"
    }
   ],
   "source": [
    "# kita coba dengan atribut lain misal dengan atribut Sleep_Hours\n",
    "\n",
    "df.Sleep_Hours.value_counts().nlargest(7).plot(kind='bar', figsize=(10,5))\n",
    "plt.title(\"Number of Student by Sleep_Hours \")\n",
    "plt.ylabel('Number of Student')               \n",
    "plt.xlabel('Sleep Hours');   "
   ]
  },
  {
   "cell_type": "code",
   "execution_count": null,
   "id": "61237080",
   "metadata": {},
   "outputs": [],
   "source": [
    "# dari chart diatas ada lebih dari 1600 siswa yang punya waktu tidur sebanyak 7 jam."
   ]
  },
  {
   "cell_type": "markdown",
   "id": "1dd3ad2c",
   "metadata": {},
   "source": [
    "b. Bivariate\n",
    "\n",
    "bisa menggunakan heat maps, scaterplot, pairplot atau juga Correlation Matrix agar bisa melihat korelasi antara dua atribut."
   ]
  },
  {
   "cell_type": "code",
   "execution_count": null,
   "id": "5332077f",
   "metadata": {},
   "outputs": [
    {
     "ename": "ValueError",
     "evalue": "could not convert string to float: 'Low'",
     "output_type": "error",
     "traceback": [
      "\u001b[31m---------------------------------------------------------------------------\u001b[39m",
      "\u001b[31mValueError\u001b[39m                                Traceback (most recent call last)",
      "\u001b[36mCell\u001b[39m\u001b[36m \u001b[39m\u001b[32mIn[27]\u001b[39m\u001b[32m, line 4\u001b[39m\n\u001b[32m      1\u001b[39m \u001b[38;5;66;03m# 1. Heat Map\u001b[39;00m\n\u001b[32m      3\u001b[39m plt.figure(figsize=(\u001b[32m10\u001b[39m,\u001b[32m5\u001b[39m))\n\u001b[32m----> \u001b[39m\u001b[32m4\u001b[39m c= \u001b[43mdf\u001b[49m\u001b[43m.\u001b[49m\u001b[43mcorr\u001b[49m\u001b[43m(\u001b[49m\u001b[43m)\u001b[49m\n\u001b[32m      5\u001b[39m sns.heatmap(c,cmap=\u001b[33m\"\u001b[39m\u001b[33mRdYlGn\u001b[39m\u001b[33m\"\u001b[39m,annot=\u001b[38;5;28;01mTrue\u001b[39;00m)\n\u001b[32m      6\u001b[39m c\n",
      "\u001b[36mFile \u001b[39m\u001b[32mc:\\Users\\yahdi\\mDoc\\machine_learning\\student_performance_factors\\venv\\Lib\\site-packages\\pandas\\core\\frame.py:11076\u001b[39m, in \u001b[36mDataFrame.corr\u001b[39m\u001b[34m(self, method, min_periods, numeric_only)\u001b[39m\n\u001b[32m  11074\u001b[39m cols = data.columns\n\u001b[32m  11075\u001b[39m idx = cols.copy()\n\u001b[32m> \u001b[39m\u001b[32m11076\u001b[39m mat = \u001b[43mdata\u001b[49m\u001b[43m.\u001b[49m\u001b[43mto_numpy\u001b[49m\u001b[43m(\u001b[49m\u001b[43mdtype\u001b[49m\u001b[43m=\u001b[49m\u001b[38;5;28;43mfloat\u001b[39;49m\u001b[43m,\u001b[49m\u001b[43m \u001b[49m\u001b[43mna_value\u001b[49m\u001b[43m=\u001b[49m\u001b[43mnp\u001b[49m\u001b[43m.\u001b[49m\u001b[43mnan\u001b[49m\u001b[43m,\u001b[49m\u001b[43m \u001b[49m\u001b[43mcopy\u001b[49m\u001b[43m=\u001b[49m\u001b[38;5;28;43;01mFalse\u001b[39;49;00m\u001b[43m)\u001b[49m\n\u001b[32m  11078\u001b[39m \u001b[38;5;28;01mif\u001b[39;00m method == \u001b[33m\"\u001b[39m\u001b[33mpearson\u001b[39m\u001b[33m\"\u001b[39m:\n\u001b[32m  11079\u001b[39m     correl = libalgos.nancorr(mat, minp=min_periods)\n",
      "\u001b[36mFile \u001b[39m\u001b[32mc:\\Users\\yahdi\\mDoc\\machine_learning\\student_performance_factors\\venv\\Lib\\site-packages\\pandas\\core\\frame.py:2002\u001b[39m, in \u001b[36mDataFrame.to_numpy\u001b[39m\u001b[34m(self, dtype, copy, na_value)\u001b[39m\n\u001b[32m   2000\u001b[39m \u001b[38;5;28;01mif\u001b[39;00m dtype \u001b[38;5;129;01mis\u001b[39;00m \u001b[38;5;129;01mnot\u001b[39;00m \u001b[38;5;28;01mNone\u001b[39;00m:\n\u001b[32m   2001\u001b[39m     dtype = np.dtype(dtype)\n\u001b[32m-> \u001b[39m\u001b[32m2002\u001b[39m result = \u001b[38;5;28;43mself\u001b[39;49m\u001b[43m.\u001b[49m\u001b[43m_mgr\u001b[49m\u001b[43m.\u001b[49m\u001b[43mas_array\u001b[49m\u001b[43m(\u001b[49m\u001b[43mdtype\u001b[49m\u001b[43m=\u001b[49m\u001b[43mdtype\u001b[49m\u001b[43m,\u001b[49m\u001b[43m \u001b[49m\u001b[43mcopy\u001b[49m\u001b[43m=\u001b[49m\u001b[43mcopy\u001b[49m\u001b[43m,\u001b[49m\u001b[43m \u001b[49m\u001b[43mna_value\u001b[49m\u001b[43m=\u001b[49m\u001b[43mna_value\u001b[49m\u001b[43m)\u001b[49m\n\u001b[32m   2003\u001b[39m \u001b[38;5;28;01mif\u001b[39;00m result.dtype \u001b[38;5;129;01mis\u001b[39;00m \u001b[38;5;129;01mnot\u001b[39;00m dtype:\n\u001b[32m   2004\u001b[39m     result = np.asarray(result, dtype=dtype)\n",
      "\u001b[36mFile \u001b[39m\u001b[32mc:\\Users\\yahdi\\mDoc\\machine_learning\\student_performance_factors\\venv\\Lib\\site-packages\\pandas\\core\\internals\\managers.py:1713\u001b[39m, in \u001b[36mBlockManager.as_array\u001b[39m\u001b[34m(self, dtype, copy, na_value)\u001b[39m\n\u001b[32m   1711\u001b[39m         arr.flags.writeable = \u001b[38;5;28;01mFalse\u001b[39;00m\n\u001b[32m   1712\u001b[39m \u001b[38;5;28;01melse\u001b[39;00m:\n\u001b[32m-> \u001b[39m\u001b[32m1713\u001b[39m     arr = \u001b[38;5;28;43mself\u001b[39;49m\u001b[43m.\u001b[49m\u001b[43m_interleave\u001b[49m\u001b[43m(\u001b[49m\u001b[43mdtype\u001b[49m\u001b[43m=\u001b[49m\u001b[43mdtype\u001b[49m\u001b[43m,\u001b[49m\u001b[43m \u001b[49m\u001b[43mna_value\u001b[49m\u001b[43m=\u001b[49m\u001b[43mna_value\u001b[49m\u001b[43m)\u001b[49m\n\u001b[32m   1714\u001b[39m     \u001b[38;5;66;03m# The underlying data was copied within _interleave, so no need\u001b[39;00m\n\u001b[32m   1715\u001b[39m     \u001b[38;5;66;03m# to further copy if copy=True or setting na_value\u001b[39;00m\n\u001b[32m   1717\u001b[39m \u001b[38;5;28;01mif\u001b[39;00m na_value \u001b[38;5;129;01mis\u001b[39;00m lib.no_default:\n",
      "\u001b[36mFile \u001b[39m\u001b[32mc:\\Users\\yahdi\\mDoc\\machine_learning\\student_performance_factors\\venv\\Lib\\site-packages\\pandas\\core\\internals\\managers.py:1772\u001b[39m, in \u001b[36mBlockManager._interleave\u001b[39m\u001b[34m(self, dtype, na_value)\u001b[39m\n\u001b[32m   1770\u001b[39m     \u001b[38;5;28;01melse\u001b[39;00m:\n\u001b[32m   1771\u001b[39m         arr = blk.get_values(dtype)\n\u001b[32m-> \u001b[39m\u001b[32m1772\u001b[39m     \u001b[43mresult\u001b[49m\u001b[43m[\u001b[49m\u001b[43mrl\u001b[49m\u001b[43m.\u001b[49m\u001b[43mindexer\u001b[49m\u001b[43m]\u001b[49m = arr\n\u001b[32m   1773\u001b[39m     itemmask[rl.indexer] = \u001b[32m1\u001b[39m\n\u001b[32m   1775\u001b[39m \u001b[38;5;28;01mif\u001b[39;00m \u001b[38;5;129;01mnot\u001b[39;00m itemmask.all():\n",
      "\u001b[31mValueError\u001b[39m: could not convert string to float: 'Low'"
     ]
    },
    {
     "data": {
      "text/plain": [
       "<Figure size 1000x500 with 0 Axes>"
      ]
     },
     "metadata": {},
     "output_type": "display_data"
    }
   ],
   "source": [
    "# 1. Heat Map\n",
    "\n",
    "plt.figure(figsize=(10,5))\n",
    "c= df.corr()\n",
    "sns.heatmap(c,cmap=\"RdYlGn\",annot=True)\n",
    "c"
   ]
  },
  {
   "cell_type": "code",
   "execution_count": null,
   "id": "1dc7572b",
   "metadata": {},
   "outputs": [],
   "source": [
    "# kenapa eror? karena error ini (ValueError: could not convert string to float: 'Low') terjadi ketika mencoba menjalankan df.corr(), tetapi salah satu kolom/atribut di DataFrame df berisi data teks (string), yaitu nilai 'Low' ataupun nilai string lainnya.\n",
    "# lalu bagaimana caranya agar hanya menghitung korelasi antara tipe data integer dan float saja. \n",
    "# caranya bisa lakukan penentuan khusus. gimana caranya? berikut adalah caranya:"
   ]
  },
  {
   "cell_type": "code",
   "execution_count": null,
   "id": "852bee7b",
   "metadata": {},
   "outputs": [],
   "source": [
    "# 1. Pilih HANYA kolom yang bertipe angka (int atau float) dengn memanggil method .select_dtypes(include=['int64', 'float64'])\n",
    "df_numerik = df.select_dtypes(include=['int64', 'float64'])\n",
    "\n",
    "# baru bisa hitung korelasinya\n",
    "# 2. Hitung korelasi dari DataFrame numerik tersebut\n",
    "c = df_numerik.corr()\n",
    "\n",
    "# 3. Buat heatmap seperti sebelumnya\n",
    "plt.figure(figsize=(10,5))\n",
    "sns.heatmap(c, cmap=\"RdYlGn\", annot=True)\n",
    "c                               #-->tampilkan korelasi dalam bentuk tabel"
   ]
  },
  {
   "cell_type": "code",
   "execution_count": null,
   "id": "f37a5371",
   "metadata": {},
   "outputs": [],
   "source": [
    "# semakin hijau maka semakin memiliki korelasi, semakin merah maka semakin sedikit korelasinya. Bisa juga melihat persentase yang tertulis, 1 itu 100% kenapa ada yang korelasinya 100%? karena atributnya sama, jadi bisa cek yang atributnya berbeda saja.\n",
    "# ternyata kehadiran memiliki korelasi yang cukup tinggi dengan exam score yaitu 58%, disusul hours studied sebesar 45% dan seterusnya. ada korelasi yang nilainya minus maka antar kedua atribut tersebut tidak ada korelasinya.\n",
    "\n",
    "# sebenarnya ketika sudah diketahui ada korelasi antar atribut maka bisa lakukan peramalan atau forecasting."
   ]
  },
  {
   "cell_type": "code",
   "execution_count": null,
   "id": "603df68e",
   "metadata": {},
   "outputs": [],
   "source": [
    "# 2. Scaterplot (diagram tebar)\n",
    "\n",
    "fig, ax = plt.subplots(figsize=(10,6))              \n",
    "ax.scatter(df['Hours_Studied'], df['Exam_Score'])\n",
    "ax.set_xlabel('Hour Studied')\n",
    "ax.set_ylabel('Exam Score')\n",
    "plt.show()\n",
    "\n",
    "\n",
    "# deskripsi baris kode\n",
    "# fig, ax = plt.subplots(figsize=(10,6))\n",
    "#       plt.subplots(): Perintah ini membuat \"kanvas\" (disebut fig, kependekan dari figure) dan satu set \"sumbu\" (disebut ax, kependekan dari axes) tempat akan menggambar.\n",
    "#       figsize=(10,6): Ini mengatur ukuran kanvas menjadi 10 inci (lebar) kali 6 inci (tinggi) agar plotnya tidak terlalu kecil.\n",
    "# ax.scatter(df['Hours_Studied'], df['Exam_Score'])\n",
    "#       ax.scatter(...): Ini adalah perintah utama untuk menggambar plot.\n",
    "#       df['Hours_Studied']: untuk memberi tahu Matplotlib untuk menggunakan kolom Hours_Studied dari DataFrame df sebagai sumbu X (horizontal).\n",
    "#       df['Exam_Score']: memberi tahu Matplotlib untuk menggunakan kolom Exam_Score sebagai sumbu Y (vertikal).\n",
    "#       -->Hasilnya, setiap baris dari data Anda akan direpresentasikan sebagai satu titik pada grafik.\n",
    "# ax.set_xlabel('Hour Studied')\n",
    "#       Perintah ini memberi label pada sumbu X dengan teks \"Hour Studied\".\n",
    "# ax.set_ylabel('Exam Score')\n",
    "#       Perintah ini memberi label pada sumbu Y dengan teks \"Exam Score\".\n",
    "# plt.show()\n",
    "#       Perintah ini menampilkan plot yang telah dibuat ke layar."
   ]
  },
  {
   "cell_type": "code",
   "execution_count": null,
   "id": "11bb510c",
   "metadata": {},
   "outputs": [],
   "source": [
    "# coba intip korelai antara atribut kehadiran dengan nilai exam\n",
    "\n",
    "fig, ax = plt.subplots(figsize=(10,6))              \n",
    "ax.scatter(df['Attendance'], df['Exam_Score'])\n",
    "ax.set_xlabel('Attendance')\n",
    "ax.set_ylabel('Exam Score')\n",
    "plt.show()\n"
   ]
  },
  {
   "cell_type": "code",
   "execution_count": null,
   "id": "55fc1541",
   "metadata": {},
   "outputs": [],
   "source": [
    "# hal unik yang saya lihat bahwa ada siswa yang dia punya kehadiran dibawah 65 tapi dia dapat score hampir 90 (jenius kayaknya), tapi ada siswa, dia memiliki kehadiran hampir 100 tapi nilai examnya dibawah 70 (ngapain aja dia di sekolah).\n",
    "# hal ini mungkin tidak akan kita temukan jika kita tidak menggunakan visualisasi atau hannya mengandalkan tabel semata dengan 6000 lebih data yanng terkumpul dalam data frame.\n",
    "# namun tidak lupa yang pasti bahwa hubungan exam score dengan Attendance ternyata punya korelasi meskipun tidak begitu signifikan, karena terlihat dari visualisasi scaterplot diatas titik-titik yang muncul cenderung naik ke kiri namun landa tidak curam yang artinya saya ulangi bahwa keduanya punya hubungan atau korelasi tapi tidak signifikan karena dari heat map yag telah kita buat un terlihat korelasi keduanya hanyaa sekitar 58%."
   ]
  },
  {
   "cell_type": "code",
   "execution_count": null,
   "id": "30692f09",
   "metadata": {},
   "outputs": [],
   "source": [
    "# 3. Pairplot (plot berpasangan)\n",
    "\n",
    "sns.pairplot(data = df, vars=['Hours_Studied', 'Attendance', 'Exam_Score'])\n",
    "plt.show()\n",
    "\n",
    "# deskripsi  kode\n",
    "# sns.pairplot(...): perintah utama dari Seaborn untuk membuat grid plot.\n",
    "# data = df: Memberi tahu Seaborn untuk mengambil data dari DataFrame df.\n",
    "# vars=['Hours_Studied', 'Attendance', 'Exam_Score']: Ini adalah bagian terpenting. kita meminta Seaborn untuk membuat plot hanya untuk ketiga variabel ini."
   ]
  },
  {
   "cell_type": "code",
   "execution_count": null,
   "id": "6c142636",
   "metadata": {},
   "outputs": [],
   "source": [
    "# 4. Correlation Matrix\n",
    "\n",
    "df[['Hours_Studied', 'Exam_Score']].corr() \n",
    "\n"
   ]
  },
  {
   "cell_type": "code",
   "execution_count": null,
   "id": "6935f23d",
   "metadata": {},
   "outputs": [],
   "source": [
    "df[['Attendance', 'Exam_Score']].corr() "
   ]
  },
  {
   "cell_type": "code",
   "execution_count": null,
   "id": "5704c5d1",
   "metadata": {},
   "outputs": [],
   "source": [
    "# pada correlation Matrix nilainya sama dengan analis dengan baris kode sebelumnnya. "
   ]
  },
  {
   "cell_type": "code",
   "execution_count": null,
   "id": "c76f7475",
   "metadata": {},
   "outputs": [],
   "source": [
    "# Dengan melihat pola titik-titik diatas, kita bisa menjawab pertanyaan seperti:\n",
    "# \"Apakah ada tren?\"\n",
    "# \"Apakah siswa yang belajar lebih lama (sumbu X ke kanan) cenderung mendapat nilai lebih tinggi (sumbu Y ke atas)?\"\n",
    "# Jika titik-titik membentuk pola yang naik dari kiri bawah ke kanan atas, itu menunjukkan korelasi positif dan  yang terlihat memang seperti itu meskipun landai.\n",
    "# artinya dua variabel/atribut hour studied dan exam score punya korelasi yang cukup baik. karena semakin banyak jam belajar, semakin tinggi nilai yang didapat.\n",
    "# dan uniknya, kita bisa menemukan bahwa, jam belajar tinggi tidak memastikan bahwa akan mendapatkan nilai yang maksimal hanya sekedar dia lebih tinggi dari keumuman.\n",
    "# karena dari scatterplot diatas, ternyata kebanyankan siswa yang mendapat nilai 80-100 bahkan yang 101 pun itu jam belajarnya berkisar pada jam  belajar 10-30 jam. \n"
   ]
  },
  {
   "cell_type": "markdown",
   "id": "07e0d262",
   "metadata": {},
   "source": [
    "c. Multivariate\n",
    "\n",
    "analisis lebih dari dua atribut"
   ]
  },
  {
   "cell_type": "code",
   "execution_count": null,
   "id": "bcfc290e",
   "metadata": {},
   "outputs": [
    {
     "data": {
      "application/vnd.microsoft.datawrangler.viewer.v0+json": {
       "columns": [
        {
         "name": "index",
         "rawType": "int64",
         "type": "integer"
        },
        {
         "name": "Hours_Studied",
         "rawType": "int64",
         "type": "integer"
        },
        {
         "name": "Attendance",
         "rawType": "int64",
         "type": "integer"
        },
        {
         "name": "Parental_Involvement",
         "rawType": "object",
         "type": "string"
        },
        {
         "name": "Access_to_Resources",
         "rawType": "object",
         "type": "string"
        },
        {
         "name": "Extracurricular_Activities",
         "rawType": "object",
         "type": "string"
        },
        {
         "name": "Sleep_Hours",
         "rawType": "int64",
         "type": "integer"
        },
        {
         "name": "Previous_Scores",
         "rawType": "int64",
         "type": "integer"
        },
        {
         "name": "Motivation_Level",
         "rawType": "object",
         "type": "string"
        },
        {
         "name": "Internet_Access",
         "rawType": "object",
         "type": "string"
        },
        {
         "name": "Tutoring_Sessions",
         "rawType": "int64",
         "type": "integer"
        },
        {
         "name": "Family_Income",
         "rawType": "object",
         "type": "string"
        },
        {
         "name": "Teacher_Quality",
         "rawType": "object",
         "type": "string"
        },
        {
         "name": "School_Type",
         "rawType": "object",
         "type": "string"
        },
        {
         "name": "Peer_Influence",
         "rawType": "object",
         "type": "string"
        },
        {
         "name": "Parental_Education_Level",
         "rawType": "object",
         "type": "string"
        },
        {
         "name": "Distance_from_Home",
         "rawType": "object",
         "type": "string"
        },
        {
         "name": "Gender",
         "rawType": "object",
         "type": "string"
        },
        {
         "name": "Exam_Score",
         "rawType": "int64",
         "type": "integer"
        }
       ],
       "ref": "5c538c0c-4db9-493b-8138-f02676740ed7",
       "rows": [
        [
         "0",
         "23",
         "84",
         "Low",
         "High",
         "No",
         "7",
         "73",
         "Low",
         "Yes",
         "0",
         "Low",
         "Medium",
         "Public",
         "Positive",
         "High School",
         "Near",
         "Male",
         "67"
        ],
        [
         "1",
         "19",
         "64",
         "Low",
         "Medium",
         "No",
         "8",
         "59",
         "Low",
         "Yes",
         "2",
         "Medium",
         "Medium",
         "Public",
         "Negative",
         "College",
         "Moderate",
         "Female",
         "61"
        ],
        [
         "2",
         "24",
         "98",
         "Medium",
         "Medium",
         "Yes",
         "7",
         "91",
         "Medium",
         "Yes",
         "2",
         "Medium",
         "Medium",
         "Public",
         "Neutral",
         "Postgraduate",
         "Near",
         "Male",
         "74"
        ],
        [
         "3",
         "29",
         "89",
         "Low",
         "Medium",
         "Yes",
         "8",
         "98",
         "Medium",
         "Yes",
         "1",
         "Medium",
         "Medium",
         "Public",
         "Negative",
         "High School",
         "Moderate",
         "Male",
         "71"
        ],
        [
         "4",
         "19",
         "92",
         "Medium",
         "Medium",
         "Yes",
         "6",
         "65",
         "Medium",
         "Yes",
         "3",
         "Medium",
         "High",
         "Public",
         "Neutral",
         "College",
         "Near",
         "Female",
         "70"
        ],
        [
         "5",
         "19",
         "88",
         "Medium",
         "Medium",
         "Yes",
         "8",
         "89",
         "Medium",
         "Yes",
         "3",
         "Medium",
         "Medium",
         "Public",
         "Positive",
         "Postgraduate",
         "Near",
         "Male",
         "71"
        ],
        [
         "6",
         "29",
         "84",
         "Medium",
         "Low",
         "Yes",
         "7",
         "68",
         "Low",
         "Yes",
         "1",
         "Low",
         "Medium",
         "Private",
         "Neutral",
         "High School",
         "Moderate",
         "Male",
         "67"
        ],
        [
         "7",
         "25",
         "78",
         "Low",
         "High",
         "Yes",
         "6",
         "50",
         "Medium",
         "Yes",
         "1",
         "High",
         "High",
         "Public",
         "Negative",
         "High School",
         "Far",
         "Male",
         "66"
        ],
        [
         "8",
         "17",
         "94",
         "Medium",
         "High",
         "No",
         "6",
         "80",
         "High",
         "Yes",
         "0",
         "Medium",
         "Low",
         "Private",
         "Neutral",
         "College",
         "Near",
         "Male",
         "69"
        ],
        [
         "9",
         "23",
         "98",
         "Medium",
         "Medium",
         "Yes",
         "8",
         "71",
         "Medium",
         "Yes",
         "0",
         "High",
         "High",
         "Public",
         "Positive",
         "High School",
         "Moderate",
         "Male",
         "72"
        ],
        [
         "10",
         "17",
         "80",
         "Low",
         "High",
         "No",
         "8",
         "88",
         "Medium",
         "No",
         "4",
         "Medium",
         "High",
         "Private",
         "Neutral",
         "College",
         "Moderate",
         "Male",
         "68"
        ],
        [
         "11",
         "17",
         "97",
         "Medium",
         "High",
         "Yes",
         "6",
         "87",
         "Low",
         "Yes",
         "2",
         "Low",
         "High",
         "Private",
         "Neutral",
         "High School",
         "Near",
         "Male",
         "71"
        ],
        [
         "12",
         "21",
         "83",
         "Medium",
         "Medium",
         "Yes",
         "8",
         "97",
         "Low",
         "Yes",
         "2",
         "Medium",
         "Medium",
         "Public",
         "Positive",
         "High School",
         "Near",
         "Male",
         "70"
        ],
        [
         "13",
         "9",
         "82",
         "Medium",
         "Medium",
         "Yes",
         "8",
         "72",
         "Medium",
         "Yes",
         "2",
         "Medium",
         "Medium",
         "Private",
         "Positive",
         "Postgraduate",
         "Near",
         "Male",
         "66"
        ],
        [
         "14",
         "10",
         "78",
         "Medium",
         "High",
         "Yes",
         "8",
         "74",
         "Medium",
         "Yes",
         "1",
         "Low",
         "Medium",
         "Private",
         "Neutral",
         "Postgraduate",
         "Near",
         "Male",
         "65"
        ]
       ],
       "shape": {
        "columns": 18,
        "rows": 15
       }
      },
      "text/html": [
       "<div>\n",
       "<style scoped>\n",
       "    .dataframe tbody tr th:only-of-type {\n",
       "        vertical-align: middle;\n",
       "    }\n",
       "\n",
       "    .dataframe tbody tr th {\n",
       "        vertical-align: top;\n",
       "    }\n",
       "\n",
       "    .dataframe thead th {\n",
       "        text-align: right;\n",
       "    }\n",
       "</style>\n",
       "<table border=\"1\" class=\"dataframe\">\n",
       "  <thead>\n",
       "    <tr style=\"text-align: right;\">\n",
       "      <th></th>\n",
       "      <th>Hours_Studied</th>\n",
       "      <th>Attendance</th>\n",
       "      <th>Parental_Involvement</th>\n",
       "      <th>Access_to_Resources</th>\n",
       "      <th>Extracurricular_Activities</th>\n",
       "      <th>Sleep_Hours</th>\n",
       "      <th>Previous_Scores</th>\n",
       "      <th>Motivation_Level</th>\n",
       "      <th>Internet_Access</th>\n",
       "      <th>Tutoring_Sessions</th>\n",
       "      <th>Family_Income</th>\n",
       "      <th>Teacher_Quality</th>\n",
       "      <th>School_Type</th>\n",
       "      <th>Peer_Influence</th>\n",
       "      <th>Parental_Education_Level</th>\n",
       "      <th>Distance_from_Home</th>\n",
       "      <th>Gender</th>\n",
       "      <th>Exam_Score</th>\n",
       "    </tr>\n",
       "  </thead>\n",
       "  <tbody>\n",
       "    <tr>\n",
       "      <th>0</th>\n",
       "      <td>23</td>\n",
       "      <td>84</td>\n",
       "      <td>Low</td>\n",
       "      <td>High</td>\n",
       "      <td>No</td>\n",
       "      <td>7</td>\n",
       "      <td>73</td>\n",
       "      <td>Low</td>\n",
       "      <td>Yes</td>\n",
       "      <td>0</td>\n",
       "      <td>Low</td>\n",
       "      <td>Medium</td>\n",
       "      <td>Public</td>\n",
       "      <td>Positive</td>\n",
       "      <td>High School</td>\n",
       "      <td>Near</td>\n",
       "      <td>Male</td>\n",
       "      <td>67</td>\n",
       "    </tr>\n",
       "    <tr>\n",
       "      <th>1</th>\n",
       "      <td>19</td>\n",
       "      <td>64</td>\n",
       "      <td>Low</td>\n",
       "      <td>Medium</td>\n",
       "      <td>No</td>\n",
       "      <td>8</td>\n",
       "      <td>59</td>\n",
       "      <td>Low</td>\n",
       "      <td>Yes</td>\n",
       "      <td>2</td>\n",
       "      <td>Medium</td>\n",
       "      <td>Medium</td>\n",
       "      <td>Public</td>\n",
       "      <td>Negative</td>\n",
       "      <td>College</td>\n",
       "      <td>Moderate</td>\n",
       "      <td>Female</td>\n",
       "      <td>61</td>\n",
       "    </tr>\n",
       "    <tr>\n",
       "      <th>2</th>\n",
       "      <td>24</td>\n",
       "      <td>98</td>\n",
       "      <td>Medium</td>\n",
       "      <td>Medium</td>\n",
       "      <td>Yes</td>\n",
       "      <td>7</td>\n",
       "      <td>91</td>\n",
       "      <td>Medium</td>\n",
       "      <td>Yes</td>\n",
       "      <td>2</td>\n",
       "      <td>Medium</td>\n",
       "      <td>Medium</td>\n",
       "      <td>Public</td>\n",
       "      <td>Neutral</td>\n",
       "      <td>Postgraduate</td>\n",
       "      <td>Near</td>\n",
       "      <td>Male</td>\n",
       "      <td>74</td>\n",
       "    </tr>\n",
       "    <tr>\n",
       "      <th>3</th>\n",
       "      <td>29</td>\n",
       "      <td>89</td>\n",
       "      <td>Low</td>\n",
       "      <td>Medium</td>\n",
       "      <td>Yes</td>\n",
       "      <td>8</td>\n",
       "      <td>98</td>\n",
       "      <td>Medium</td>\n",
       "      <td>Yes</td>\n",
       "      <td>1</td>\n",
       "      <td>Medium</td>\n",
       "      <td>Medium</td>\n",
       "      <td>Public</td>\n",
       "      <td>Negative</td>\n",
       "      <td>High School</td>\n",
       "      <td>Moderate</td>\n",
       "      <td>Male</td>\n",
       "      <td>71</td>\n",
       "    </tr>\n",
       "    <tr>\n",
       "      <th>4</th>\n",
       "      <td>19</td>\n",
       "      <td>92</td>\n",
       "      <td>Medium</td>\n",
       "      <td>Medium</td>\n",
       "      <td>Yes</td>\n",
       "      <td>6</td>\n",
       "      <td>65</td>\n",
       "      <td>Medium</td>\n",
       "      <td>Yes</td>\n",
       "      <td>3</td>\n",
       "      <td>Medium</td>\n",
       "      <td>High</td>\n",
       "      <td>Public</td>\n",
       "      <td>Neutral</td>\n",
       "      <td>College</td>\n",
       "      <td>Near</td>\n",
       "      <td>Female</td>\n",
       "      <td>70</td>\n",
       "    </tr>\n",
       "    <tr>\n",
       "      <th>5</th>\n",
       "      <td>19</td>\n",
       "      <td>88</td>\n",
       "      <td>Medium</td>\n",
       "      <td>Medium</td>\n",
       "      <td>Yes</td>\n",
       "      <td>8</td>\n",
       "      <td>89</td>\n",
       "      <td>Medium</td>\n",
       "      <td>Yes</td>\n",
       "      <td>3</td>\n",
       "      <td>Medium</td>\n",
       "      <td>Medium</td>\n",
       "      <td>Public</td>\n",
       "      <td>Positive</td>\n",
       "      <td>Postgraduate</td>\n",
       "      <td>Near</td>\n",
       "      <td>Male</td>\n",
       "      <td>71</td>\n",
       "    </tr>\n",
       "    <tr>\n",
       "      <th>6</th>\n",
       "      <td>29</td>\n",
       "      <td>84</td>\n",
       "      <td>Medium</td>\n",
       "      <td>Low</td>\n",
       "      <td>Yes</td>\n",
       "      <td>7</td>\n",
       "      <td>68</td>\n",
       "      <td>Low</td>\n",
       "      <td>Yes</td>\n",
       "      <td>1</td>\n",
       "      <td>Low</td>\n",
       "      <td>Medium</td>\n",
       "      <td>Private</td>\n",
       "      <td>Neutral</td>\n",
       "      <td>High School</td>\n",
       "      <td>Moderate</td>\n",
       "      <td>Male</td>\n",
       "      <td>67</td>\n",
       "    </tr>\n",
       "    <tr>\n",
       "      <th>7</th>\n",
       "      <td>25</td>\n",
       "      <td>78</td>\n",
       "      <td>Low</td>\n",
       "      <td>High</td>\n",
       "      <td>Yes</td>\n",
       "      <td>6</td>\n",
       "      <td>50</td>\n",
       "      <td>Medium</td>\n",
       "      <td>Yes</td>\n",
       "      <td>1</td>\n",
       "      <td>High</td>\n",
       "      <td>High</td>\n",
       "      <td>Public</td>\n",
       "      <td>Negative</td>\n",
       "      <td>High School</td>\n",
       "      <td>Far</td>\n",
       "      <td>Male</td>\n",
       "      <td>66</td>\n",
       "    </tr>\n",
       "    <tr>\n",
       "      <th>8</th>\n",
       "      <td>17</td>\n",
       "      <td>94</td>\n",
       "      <td>Medium</td>\n",
       "      <td>High</td>\n",
       "      <td>No</td>\n",
       "      <td>6</td>\n",
       "      <td>80</td>\n",
       "      <td>High</td>\n",
       "      <td>Yes</td>\n",
       "      <td>0</td>\n",
       "      <td>Medium</td>\n",
       "      <td>Low</td>\n",
       "      <td>Private</td>\n",
       "      <td>Neutral</td>\n",
       "      <td>College</td>\n",
       "      <td>Near</td>\n",
       "      <td>Male</td>\n",
       "      <td>69</td>\n",
       "    </tr>\n",
       "    <tr>\n",
       "      <th>9</th>\n",
       "      <td>23</td>\n",
       "      <td>98</td>\n",
       "      <td>Medium</td>\n",
       "      <td>Medium</td>\n",
       "      <td>Yes</td>\n",
       "      <td>8</td>\n",
       "      <td>71</td>\n",
       "      <td>Medium</td>\n",
       "      <td>Yes</td>\n",
       "      <td>0</td>\n",
       "      <td>High</td>\n",
       "      <td>High</td>\n",
       "      <td>Public</td>\n",
       "      <td>Positive</td>\n",
       "      <td>High School</td>\n",
       "      <td>Moderate</td>\n",
       "      <td>Male</td>\n",
       "      <td>72</td>\n",
       "    </tr>\n",
       "    <tr>\n",
       "      <th>10</th>\n",
       "      <td>17</td>\n",
       "      <td>80</td>\n",
       "      <td>Low</td>\n",
       "      <td>High</td>\n",
       "      <td>No</td>\n",
       "      <td>8</td>\n",
       "      <td>88</td>\n",
       "      <td>Medium</td>\n",
       "      <td>No</td>\n",
       "      <td>4</td>\n",
       "      <td>Medium</td>\n",
       "      <td>High</td>\n",
       "      <td>Private</td>\n",
       "      <td>Neutral</td>\n",
       "      <td>College</td>\n",
       "      <td>Moderate</td>\n",
       "      <td>Male</td>\n",
       "      <td>68</td>\n",
       "    </tr>\n",
       "    <tr>\n",
       "      <th>11</th>\n",
       "      <td>17</td>\n",
       "      <td>97</td>\n",
       "      <td>Medium</td>\n",
       "      <td>High</td>\n",
       "      <td>Yes</td>\n",
       "      <td>6</td>\n",
       "      <td>87</td>\n",
       "      <td>Low</td>\n",
       "      <td>Yes</td>\n",
       "      <td>2</td>\n",
       "      <td>Low</td>\n",
       "      <td>High</td>\n",
       "      <td>Private</td>\n",
       "      <td>Neutral</td>\n",
       "      <td>High School</td>\n",
       "      <td>Near</td>\n",
       "      <td>Male</td>\n",
       "      <td>71</td>\n",
       "    </tr>\n",
       "    <tr>\n",
       "      <th>12</th>\n",
       "      <td>21</td>\n",
       "      <td>83</td>\n",
       "      <td>Medium</td>\n",
       "      <td>Medium</td>\n",
       "      <td>Yes</td>\n",
       "      <td>8</td>\n",
       "      <td>97</td>\n",
       "      <td>Low</td>\n",
       "      <td>Yes</td>\n",
       "      <td>2</td>\n",
       "      <td>Medium</td>\n",
       "      <td>Medium</td>\n",
       "      <td>Public</td>\n",
       "      <td>Positive</td>\n",
       "      <td>High School</td>\n",
       "      <td>Near</td>\n",
       "      <td>Male</td>\n",
       "      <td>70</td>\n",
       "    </tr>\n",
       "    <tr>\n",
       "      <th>13</th>\n",
       "      <td>9</td>\n",
       "      <td>82</td>\n",
       "      <td>Medium</td>\n",
       "      <td>Medium</td>\n",
       "      <td>Yes</td>\n",
       "      <td>8</td>\n",
       "      <td>72</td>\n",
       "      <td>Medium</td>\n",
       "      <td>Yes</td>\n",
       "      <td>2</td>\n",
       "      <td>Medium</td>\n",
       "      <td>Medium</td>\n",
       "      <td>Private</td>\n",
       "      <td>Positive</td>\n",
       "      <td>Postgraduate</td>\n",
       "      <td>Near</td>\n",
       "      <td>Male</td>\n",
       "      <td>66</td>\n",
       "    </tr>\n",
       "    <tr>\n",
       "      <th>14</th>\n",
       "      <td>10</td>\n",
       "      <td>78</td>\n",
       "      <td>Medium</td>\n",
       "      <td>High</td>\n",
       "      <td>Yes</td>\n",
       "      <td>8</td>\n",
       "      <td>74</td>\n",
       "      <td>Medium</td>\n",
       "      <td>Yes</td>\n",
       "      <td>1</td>\n",
       "      <td>Low</td>\n",
       "      <td>Medium</td>\n",
       "      <td>Private</td>\n",
       "      <td>Neutral</td>\n",
       "      <td>Postgraduate</td>\n",
       "      <td>Near</td>\n",
       "      <td>Male</td>\n",
       "      <td>65</td>\n",
       "    </tr>\n",
       "  </tbody>\n",
       "</table>\n",
       "</div>"
      ],
      "text/plain": [
       "    Hours_Studied  Attendance Parental_Involvement Access_to_Resources  \\\n",
       "0              23          84                  Low                High   \n",
       "1              19          64                  Low              Medium   \n",
       "2              24          98               Medium              Medium   \n",
       "3              29          89                  Low              Medium   \n",
       "4              19          92               Medium              Medium   \n",
       "5              19          88               Medium              Medium   \n",
       "6              29          84               Medium                 Low   \n",
       "7              25          78                  Low                High   \n",
       "8              17          94               Medium                High   \n",
       "9              23          98               Medium              Medium   \n",
       "10             17          80                  Low                High   \n",
       "11             17          97               Medium                High   \n",
       "12             21          83               Medium              Medium   \n",
       "13              9          82               Medium              Medium   \n",
       "14             10          78               Medium                High   \n",
       "\n",
       "   Extracurricular_Activities  Sleep_Hours  Previous_Scores Motivation_Level  \\\n",
       "0                          No            7               73              Low   \n",
       "1                          No            8               59              Low   \n",
       "2                         Yes            7               91           Medium   \n",
       "3                         Yes            8               98           Medium   \n",
       "4                         Yes            6               65           Medium   \n",
       "5                         Yes            8               89           Medium   \n",
       "6                         Yes            7               68              Low   \n",
       "7                         Yes            6               50           Medium   \n",
       "8                          No            6               80             High   \n",
       "9                         Yes            8               71           Medium   \n",
       "10                         No            8               88           Medium   \n",
       "11                        Yes            6               87              Low   \n",
       "12                        Yes            8               97              Low   \n",
       "13                        Yes            8               72           Medium   \n",
       "14                        Yes            8               74           Medium   \n",
       "\n",
       "   Internet_Access  Tutoring_Sessions Family_Income Teacher_Quality  \\\n",
       "0              Yes                  0           Low          Medium   \n",
       "1              Yes                  2        Medium          Medium   \n",
       "2              Yes                  2        Medium          Medium   \n",
       "3              Yes                  1        Medium          Medium   \n",
       "4              Yes                  3        Medium            High   \n",
       "5              Yes                  3        Medium          Medium   \n",
       "6              Yes                  1           Low          Medium   \n",
       "7              Yes                  1          High            High   \n",
       "8              Yes                  0        Medium             Low   \n",
       "9              Yes                  0          High            High   \n",
       "10              No                  4        Medium            High   \n",
       "11             Yes                  2           Low            High   \n",
       "12             Yes                  2        Medium          Medium   \n",
       "13             Yes                  2        Medium          Medium   \n",
       "14             Yes                  1           Low          Medium   \n",
       "\n",
       "   School_Type Peer_Influence Parental_Education_Level Distance_from_Home  \\\n",
       "0       Public       Positive              High School               Near   \n",
       "1       Public       Negative                  College           Moderate   \n",
       "2       Public        Neutral             Postgraduate               Near   \n",
       "3       Public       Negative              High School           Moderate   \n",
       "4       Public        Neutral                  College               Near   \n",
       "5       Public       Positive             Postgraduate               Near   \n",
       "6      Private        Neutral              High School           Moderate   \n",
       "7       Public       Negative              High School                Far   \n",
       "8      Private        Neutral                  College               Near   \n",
       "9       Public       Positive              High School           Moderate   \n",
       "10     Private        Neutral                  College           Moderate   \n",
       "11     Private        Neutral              High School               Near   \n",
       "12      Public       Positive              High School               Near   \n",
       "13     Private       Positive             Postgraduate               Near   \n",
       "14     Private        Neutral             Postgraduate               Near   \n",
       "\n",
       "    Gender  Exam_Score  \n",
       "0     Male          67  \n",
       "1   Female          61  \n",
       "2     Male          74  \n",
       "3     Male          71  \n",
       "4   Female          70  \n",
       "5     Male          71  \n",
       "6     Male          67  \n",
       "7     Male          66  \n",
       "8     Male          69  \n",
       "9     Male          72  \n",
       "10    Male          68  \n",
       "11    Male          71  \n",
       "12    Male          70  \n",
       "13    Male          66  \n",
       "14    Male          65  "
      ]
     },
     "execution_count": 12,
     "metadata": {},
     "output_type": "execute_result"
    }
   ],
   "source": [
    "# Biasa intip dulu df nya \n",
    "\n",
    "df.head(15)"
   ]
  },
  {
   "cell_type": "code",
   "execution_count": null,
   "id": "82bbc48a",
   "metadata": {},
   "outputs": [
    {
     "name": "stdout",
     "output_type": "stream",
     "text": [
      "Attendance        60   61   62   63   64   65   66   67   68   69   ...  91   \\\n",
      "Motivation_Level                                                    ...        \n",
      "High               58   58   58   58   58   62   57   61   60   59  ...   64   \n",
      "Low                57   58   58   59   57   59   59   57   61   58  ...   64   \n",
      "Medium             58   58   55   59   59   56   59   59   59   60  ...   64   \n",
      "\n",
      "Attendance        92   93   94   95   96   97   98   99   100  \n",
      "Motivation_Level                                               \n",
      "High               64   64   65   66   66   66   66   67   68  \n",
      "Low                64   65   65   66   65   64   66   62   64  \n",
      "Medium             63   64   64   66   65   64   64   65   66  \n",
      "\n",
      "[3 rows x 41 columns]\n"
     ]
    },
    {
     "data": {
      "image/png": "[encoded data removed]",
      "text/plain": [
       "<Figure size 640x480 with 2 Axes>"
      ]
     },
     "metadata": {},
     "output_type": "display_data"
    }
   ],
   "source": [
    "# Untuk melakukan analisi multivariate bisa lakukan perintah ini\n",
    "\n",
    "result = pd.pivot_table(data = df, index='Motivation_Level', columns = 'Attendance', values='Exam_Score', aggfunc='min' )\n",
    "print(result)\n",
    "\n",
    "sns.heatmap(result,  annot=True, cmap='RdYlGn', center=0.117)\n",
    "plt.show()\n",
    "\n",
    "\n",
    "# deskripsi kode\n",
    "\n",
    "# .pivot_table : perintah untuk membuat ringkasan dengan beberapa parameter yang bisa disusuaikan seperti data (untuk diisi df), index, columns, values, aggfunc (bisa isi dengan 'max', mean, min, sum dll), dan beberapa parameter lain. bisa cek lengkapnya dengan hover  teks pivot_table (nanti muncul penggunaan lengkapnya)\n",
    "# data = df: Menggunakan DataFrame df sebagai sumber data.\n",
    "# index='Motivation_Level': Ini akan menjadi baris dari tabel baru Anda. Setiap nilai unik di kolom Motivation_Level (misalnya \"High\", \"Medium\", \"Low\") akan menjadi label baris.\n",
    "# columns = 'Attendance': Ini akan menjadi kolom dari tabel baru Anda. Setiap nilai unik di kolom Attendance (misalnya 80, 90, 100) akan menjadi header kolom.\n",
    "# values='Exam_Score': Ini adalah nilai-nilai yang ingin Anda agregat (hitung) di dalam sel-sel tabel.\n",
    "# aggfunc='max' : parameter untuks diisi denngan fungsi agregasi, bisa sum, mean, max dll. kenapa pakai max, khusus pada data set yang sedang dianalisis kalau pakai mean nanti yang muncul sebagai tolak ukur nilainya 60-70 doang tapi kalau pakai max nilai maxnnya muncul. jadi bisa sesuaikan berdasarkan kebutuhan"
   ]
  },
  {
   "cell_type": "code",
   "execution_count": null,
   "id": "355af638",
   "metadata": {},
   "outputs": [],
   "source": [
    "# visualisasi yang muncul terlihat rumit untuk dibaca karena atribut yang kita korelasikan itu berbentuk numerik yang total valuenya beragam dan banyak berbeda dengan kategorik yang mungkin hanya menampilkan 3-5 value saja, seperti baik, buruk, tinggi sedang rendah, sehingga mau tidak mau semua data numerik itu muncul divisualisasi. solusinnya bisa dilakukan bining atau discretization (merubah data numerik jadi kategorik, dari 40-100 menjadi sangat baik, baik, sedang, buruk misalnya).\n",
    "# sebelum kita lakukan bining pada atribut yang hendak kita analisis multivariate, mungkin coba dulu lakukan analisis multivariate dengan data kategorik yang ada pada df, seperti Parental_Involvement, \n",
    "# Access_to_Resources, Motivation_Level, Family_Income dan lain-lain.b"
   ]
  },
  {
   "cell_type": "code",
   "execution_count": null,
   "id": "cca4baa8",
   "metadata": {},
   "outputs": [
    {
     "name": "stdout",
     "output_type": "stream",
     "text": [
      "Family_Income     High  Low  Medium\n",
      "Motivation_Level                   \n",
      "High                98   86      92\n",
      "Low                101   94      99\n",
      "Medium             100   97      99\n"
     ]
    },
    {
     "data": {
      "image/png": "[encoded data removed]",
      "text/plain": [
       "<Figure size 640x480 with 2 Axes>"
      ]
     },
     "metadata": {},
     "output_type": "display_data"
    }
   ],
   "source": [
    "result = pd.pivot_table(data = df, index='Motivation_Level', columns = 'Family_Income', values='Exam_Score', aggfunc='max' )\n",
    "print(result)\n",
    "\n",
    "sns.heatmap(result,  annot=True, cmap='RdYlGn', center=0.117)\n",
    "plt.show()\n"
   ]
  },
  {
   "cell_type": "code",
   "execution_count": null,
   "id": "639e3d82",
   "metadata": {},
   "outputs": [],
   "source": [
    "# kalau pakai data kategorik bisa analisis dengan mudah. mari kita baca visualisasi data diatas dengan melihat korelasi ketiga atribut motivasi, income ortu dan nilai exam. ternyata pada strurtur nilai max, jika ketiga atribut ini dikorelasikan, atribut income cukup berpengaruh terhadap nilai exam siswa karena semakin tinggi income ortu semakin tinggi pula nilai yang diraih di semua tingkat motivasi. berbeda dengan motivasi, ia tidak secara konsisten menunjukan semakin tinggi motivasinya semakin tinggi nilainya, karena buktinya pada motivasi low di semua tingkatan income itu nilai yang motivasi low itu lebih tinggi daripada yang motivasinya high.\n",
    "# lakukan analisi multivariate lain dengan atribut yang berbeda.\n",
    "# Mungkin untuk bining pada data numerik akan dipraktikan pada penjelasan dibawah agar lebih terstruktur."
   ]
  }
 ],
 "metadata": {
  "kernelspec": {
   "display_name": "venv",
   "language": "python",
   "name": "python3"
  },
  "language_info": {
   "codemirror_mode": {
    "name": "ipython",
    "version": 3
   },
   "file_extension": ".py",
   "mimetype": "text/x-python",
   "name": "python",
   "nbconvert_exporter": "python",
   "pygments_lexer": "ipython3",
   "version": "3.14.0"
  }
 },
 "nbformat": 4,
 "nbformat_minor": 5
}
