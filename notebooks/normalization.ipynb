{
 "cells": [
  {
   "cell_type": "markdown",
   "id": "232664ff",
   "metadata": {},
   "source": [
    "11. Data Normalization\n",
    "\n",
    "Memperbaiki data yang tidak normal. Data  yang tidak normal adalah data yang memiliki rentan skala yang berbeda, misalkan ada variabel umur yang memiliki  skala  1-100, lalu ada variabel gaji yang memiliki data  dengan skala jutaan. atribut atau variabel umur dan gaji memiliki rentang skala yang berbeda, sehingga jika dihubungkan maka rentang datanya tidak normal karena perbedaan skala tadi. Kenapa perlu normalisasi data?, karena data dengan skala yang berbeda dan terlampau besar itu akan memberatkan komputasi dan menghambat machne learning, sehingga perlu  untuk dinormalisasi menjad skala 0-1.\n",
    "Ada beberapa pilihan untuk melakukan normalisasi data :\n",
    "1. Simple Feature Scaling\n",
    "2. Rescaling (MinMax Normalizatition)\n",
    "3.  Mean Normalization \n",
    "4.  Standarddization (Z-Score Normalization)\n",
    "Berikut merupakan beberapa opsi normalisasi yang akan dipraktikan:\n"
   ]
  },
  {
   "cell_type": "code",
   "execution_count": 11,
   "id": "fed40d7a",
   "metadata": {},
   "outputs": [
    {
     "name": "stdout",
     "output_type": "stream",
     "text": [
      "Berhasil import library!\n"
     ]
    }
   ],
   "source": [
    "# a. Data Normalization MinMax (perlu library scikit learn) \n",
    "import pandas as pd  # mengatur dataset menjadi data frame (df, istilah yang mirip dengan row, column dalam excel) agar rapih seperti tampilan excel\n",
    "import numpy as np   #\n",
    "import seaborn as sns # library visualisai\n",
    "import matplotlib.pyplot as plt # library visualisai\n",
    "%matplotlib inline\n",
    "sns.set(color_codes=True)\n",
    "\n",
    "                      \n",
    "               \n",
    "from sklearn.preprocessing import MinMaxScaler\n",
    "print(\"Berhasil import library!\")  \n",
    "\n"
   ]
  },
  {
   "cell_type": "code",
   "execution_count": 12,
   "id": "a7613afa",
   "metadata": {},
   "outputs": [],
   "source": [
    "df = pd.read_csv('../data/spf.csv')\n",
    "\n",
    "\n",
    "# disini saya menggunakan data yang sudah bbersih dari duplikat dan missing value melanjutkan dari data yang sudah dibersihkan di proese sebelumnya. sebenarnya bisa saja mengambil data kotor dengan memangggil data set awal jangan data set yang bersih.\n",
    "# Karena proses sebelumnya sudah simpan data bersihnya menjadi sebuah file yang nanti dipanggil lagi di file baru, filenya bisa dalam bentuk csv lagi atau bentuk lain entah .pickle atau .parquet (intall librarynya dulu pyarrow) dengan mengetik kode pada akhir proses \n",
    "\n",
    "# df_clean.to_pickle('data_bersih.pkl') -->df.clean : nama file yang sudah dilakukan pembersihan, to_pickle : eksport jadi file dengan format pickle."
   ]
  },
  {
   "cell_type": "code",
   "execution_count": 13,
   "id": "8c0ecfd2",
   "metadata": {},
   "outputs": [
    {
     "data": {
      "application/vnd.microsoft.datawrangler.viewer.v0+json": {
       "columns": [
        {
         "name": "index",
         "rawType": "object",
         "type": "string"
        },
        {
         "name": "0",
         "rawType": "object",
         "type": "unknown"
        }
       ],
       "ref": "3415eb56-3d84-4f02-8a8c-975062678ab0",
       "rows": [
        [
         "Hours_Studied",
         "int64"
        ],
        [
         "Attendance",
         "int64"
        ],
        [
         "Parental_Involvement",
         "object"
        ],
        [
         "Access_to_Resources",
         "object"
        ],
        [
         "Extracurricular_Activities",
         "object"
        ],
        [
         "Sleep_Hours",
         "int64"
        ],
        [
         "Previous_Scores",
         "int64"
        ],
        [
         "Motivation_Level",
         "object"
        ],
        [
         "Internet_Access",
         "object"
        ],
        [
         "Tutoring_Sessions",
         "int64"
        ],
        [
         "Family_Income",
         "object"
        ],
        [
         "Teacher_Quality",
         "object"
        ],
        [
         "School_Type",
         "object"
        ],
        [
         "Peer_Influence",
         "object"
        ],
        [
         "Parental_Education_Level",
         "object"
        ],
        [
         "Distance_from_Home",
         "object"
        ],
        [
         "Gender",
         "object"
        ],
        [
         "Exam_Score",
         "int64"
        ]
       ],
       "shape": {
        "columns": 1,
        "rows": 18
       }
      },
      "text/plain": [
       "Hours_Studied                  int64\n",
       "Attendance                     int64\n",
       "Parental_Involvement          object\n",
       "Access_to_Resources           object\n",
       "Extracurricular_Activities    object\n",
       "Sleep_Hours                    int64\n",
       "Previous_Scores                int64\n",
       "Motivation_Level              object\n",
       "Internet_Access               object\n",
       "Tutoring_Sessions              int64\n",
       "Family_Income                 object\n",
       "Teacher_Quality               object\n",
       "School_Type                   object\n",
       "Peer_Influence                object\n",
       "Parental_Education_Level      object\n",
       "Distance_from_Home            object\n",
       "Gender                        object\n",
       "Exam_Score                     int64\n",
       "dtype: object"
      ]
     },
     "execution_count": 13,
     "metadata": {},
     "output_type": "execute_result"
    }
   ],
   "source": [
    "df.dtypes"
   ]
  },
  {
   "cell_type": "code",
   "execution_count": 14,
   "id": "1df6ea6c",
   "metadata": {},
   "outputs": [
    {
     "data": {
      "application/vnd.microsoft.datawrangler.viewer.v0+json": {
       "columns": [
        {
         "name": "index",
         "rawType": "object",
         "type": "string"
        },
        {
         "name": "Hours_Studied",
         "rawType": "float64",
         "type": "float"
        },
        {
         "name": "Attendance",
         "rawType": "float64",
         "type": "float"
        },
        {
         "name": "Sleep_Hours",
         "rawType": "float64",
         "type": "float"
        },
        {
         "name": "Previous_Scores",
         "rawType": "float64",
         "type": "float"
        },
        {
         "name": "Tutoring_Sessions",
         "rawType": "float64",
         "type": "float"
        },
        {
         "name": "Exam_Score",
         "rawType": "float64",
         "type": "float"
        }
       ],
       "ref": "8178d0a0-c998-4dbd-926d-8818afdbcf7c",
       "rows": [
        [
         "count",
         "6378.0",
         "6378.0",
         "6378.0",
         "6378.0",
         "6378.0",
         "6378.0"
        ],
        [
         "mean",
         "19.97710881153967",
         "80.02085293195358",
         "7.034963938538727",
         "75.06616494198808",
         "1.4952963311382879",
         "67.25211665098777"
        ],
        [
         "std",
         "5.985459589653109",
         "11.550722840728863",
         "1.4680328468210235",
         "14.400388535142636",
         "1.2339837262257374",
         "3.914216506751209"
        ],
        [
         "min",
         "1.0",
         "60.0",
         "4.0",
         "50.0",
         "0.0",
         "55.0"
        ],
        [
         "25%",
         "16.0",
         "70.0",
         "6.0",
         "63.0",
         "1.0",
         "65.0"
        ],
        [
         "50%",
         "20.0",
         "80.0",
         "7.0",
         "75.0",
         "1.0",
         "67.0"
        ],
        [
         "75%",
         "24.0",
         "90.0",
         "8.0",
         "88.0",
         "2.0",
         "69.0"
        ],
        [
         "max",
         "44.0",
         "100.0",
         "10.0",
         "100.0",
         "8.0",
         "101.0"
        ]
       ],
       "shape": {
        "columns": 6,
        "rows": 8
       }
      },
      "text/html": [
       "<div>\n",
       "<style scoped>\n",
       "    .dataframe tbody tr th:only-of-type {\n",
       "        vertical-align: middle;\n",
       "    }\n",
       "\n",
       "    .dataframe tbody tr th {\n",
       "        vertical-align: top;\n",
       "    }\n",
       "\n",
       "    .dataframe thead th {\n",
       "        text-align: right;\n",
       "    }\n",
       "</style>\n",
       "<table border=\"1\" class=\"dataframe\">\n",
       "  <thead>\n",
       "    <tr style=\"text-align: right;\">\n",
       "      <th></th>\n",
       "      <th>Hours_Studied</th>\n",
       "      <th>Attendance</th>\n",
       "      <th>Sleep_Hours</th>\n",
       "      <th>Previous_Scores</th>\n",
       "      <th>Tutoring_Sessions</th>\n",
       "      <th>Exam_Score</th>\n",
       "    </tr>\n",
       "  </thead>\n",
       "  <tbody>\n",
       "    <tr>\n",
       "      <th>count</th>\n",
       "      <td>6378.000000</td>\n",
       "      <td>6378.000000</td>\n",
       "      <td>6378.000000</td>\n",
       "      <td>6378.000000</td>\n",
       "      <td>6378.000000</td>\n",
       "      <td>6378.000000</td>\n",
       "    </tr>\n",
       "    <tr>\n",
       "      <th>mean</th>\n",
       "      <td>19.977109</td>\n",
       "      <td>80.020853</td>\n",
       "      <td>7.034964</td>\n",
       "      <td>75.066165</td>\n",
       "      <td>1.495296</td>\n",
       "      <td>67.252117</td>\n",
       "    </tr>\n",
       "    <tr>\n",
       "      <th>std</th>\n",
       "      <td>5.985460</td>\n",
       "      <td>11.550723</td>\n",
       "      <td>1.468033</td>\n",
       "      <td>14.400389</td>\n",
       "      <td>1.233984</td>\n",
       "      <td>3.914217</td>\n",
       "    </tr>\n",
       "    <tr>\n",
       "      <th>min</th>\n",
       "      <td>1.000000</td>\n",
       "      <td>60.000000</td>\n",
       "      <td>4.000000</td>\n",
       "      <td>50.000000</td>\n",
       "      <td>0.000000</td>\n",
       "      <td>55.000000</td>\n",
       "    </tr>\n",
       "    <tr>\n",
       "      <th>25%</th>\n",
       "      <td>16.000000</td>\n",
       "      <td>70.000000</td>\n",
       "      <td>6.000000</td>\n",
       "      <td>63.000000</td>\n",
       "      <td>1.000000</td>\n",
       "      <td>65.000000</td>\n",
       "    </tr>\n",
       "    <tr>\n",
       "      <th>50%</th>\n",
       "      <td>20.000000</td>\n",
       "      <td>80.000000</td>\n",
       "      <td>7.000000</td>\n",
       "      <td>75.000000</td>\n",
       "      <td>1.000000</td>\n",
       "      <td>67.000000</td>\n",
       "    </tr>\n",
       "    <tr>\n",
       "      <th>75%</th>\n",
       "      <td>24.000000</td>\n",
       "      <td>90.000000</td>\n",
       "      <td>8.000000</td>\n",
       "      <td>88.000000</td>\n",
       "      <td>2.000000</td>\n",
       "      <td>69.000000</td>\n",
       "    </tr>\n",
       "    <tr>\n",
       "      <th>max</th>\n",
       "      <td>44.000000</td>\n",
       "      <td>100.000000</td>\n",
       "      <td>10.000000</td>\n",
       "      <td>100.000000</td>\n",
       "      <td>8.000000</td>\n",
       "      <td>101.000000</td>\n",
       "    </tr>\n",
       "  </tbody>\n",
       "</table>\n",
       "</div>"
      ],
      "text/plain": [
       "       Hours_Studied   Attendance  Sleep_Hours  Previous_Scores  \\\n",
       "count    6378.000000  6378.000000  6378.000000      6378.000000   \n",
       "mean       19.977109    80.020853     7.034964        75.066165   \n",
       "std         5.985460    11.550723     1.468033        14.400389   \n",
       "min         1.000000    60.000000     4.000000        50.000000   \n",
       "25%        16.000000    70.000000     6.000000        63.000000   \n",
       "50%        20.000000    80.000000     7.000000        75.000000   \n",
       "75%        24.000000    90.000000     8.000000        88.000000   \n",
       "max        44.000000   100.000000    10.000000       100.000000   \n",
       "\n",
       "       Tutoring_Sessions   Exam_Score  \n",
       "count        6378.000000  6378.000000  \n",
       "mean            1.495296    67.252117  \n",
       "std             1.233984     3.914217  \n",
       "min             0.000000    55.000000  \n",
       "25%             1.000000    65.000000  \n",
       "50%             1.000000    67.000000  \n",
       "75%             2.000000    69.000000  \n",
       "max             8.000000   101.000000  "
      ]
     },
     "execution_count": 14,
     "metadata": {},
     "output_type": "execute_result"
    }
   ],
   "source": [
    "df.describe()"
   ]
  },
  {
   "cell_type": "code",
   "execution_count": 15,
   "id": "94b274b4",
   "metadata": {},
   "outputs": [
    {
     "name": "stdout",
     "output_type": "stream",
     "text": [
      "[[0.5        0.26086957]\n",
      " [0.66666667 0.13043478]\n",
      " [0.5        0.41304348]\n",
      " ...\n",
      " [0.33333333 0.2826087 ]\n",
      " [0.33333333 0.2826087 ]\n",
      " [0.83333333 0.19565217]]\n"
     ]
    }
   ],
   "source": [
    "scaler = MinMaxScaler()\n",
    "scaled = scaler.fit_transform(df[['Sleep_Hours', 'Exam_Score']])\n",
    "print (scaled)\n",
    "\n",
    "\n",
    "# deskripsi kode \n",
    "\n",
    "# MinMaxScaler bekerja dengan rumus:\n",
    "# \n",
    "# X scaled = (X-Xmin)/Xmax-Xmin\n",
    "# \n",
    "# Untuk setiap kolom yang diberikan:Nilai terendah (X_min) di kolom itu akan diubah menjadi 0.Nilai tertinggi (X_max) di kolom itu akan diubah menjadi 1.Semua nilai lain di antaranya akan diskalakan secara proporsional antara 0 dan \n",
    "# \n",
    "# Penjelasan Baris per Baris :\n",
    "# from sklearn.preprocessing import MinMaxScaler : import class (cetakan) MinMaxScaler dari library scikit-learn\n",
    "# .scaler = MinMaxScaler() : membuat sebuah objek (instance) dari scaler tersebut. Anggap saja ini sebagai \"mesin\" penskalaan yang masih baru dan belum melihat data df.\n",
    "# scaled = scaler.fit_transform(df[['Sleep_Hours', 'Exam_Score']])Ini adalah baris terpenting yang melakukan dua hal dalam satu langkah \n",
    "#   (fit_transform):.fit() (Mempelajari): Pertama, scaler akan \"melihat\" data (df[['Sleep_Hours', 'Exam_Score']]). Ia akan mencari dan mencatat nilai minimum dan maksimum untuk Sleep_Hours, dan nilai minimum dan maksimum untuk Exam_Score secara terpisah.\n",
    "#   .transform() (Menerapkan): Segera setelah \"belajar\", scaler akan menerapkan rumus di atas ke setiap nilai di kedua kolom tersebut, mengubahnya menjadi rentang [0, 1]. Hasilnya disimpan dalam variabel scaled.\n",
    "# print(scaled)Ini akan mencetak hasil dari scaled. Penting untuk dicatat: scaled bukan lagi DataFrame pandas, melainkan sebuah NumPy array."
   ]
  },
  {
   "cell_type": "code",
   "execution_count": 16,
   "id": "2dbfc68a",
   "metadata": {},
   "outputs": [
    {
     "name": "stdout",
     "output_type": "stream",
     "text": [
      "       Sleep_Hours   Exam_Score\n",
      "count  6378.000000  6378.000000\n",
      "mean      0.505827     0.266350\n",
      "std       0.244672     0.085092\n",
      "min       0.000000     0.000000\n",
      "25%       0.333333     0.217391\n",
      "50%       0.500000     0.260870\n",
      "75%       0.666667     0.304348\n",
      "max       1.000000     1.000000\n"
     ]
    }
   ],
   "source": [
    "# atribut sleep hours dan exam score sudah memiliki skala yang sama dengan minimal 0 dan maximal 1, bisa kita buktikan dengan mencoba mendescribe atribut ysang sudah ditransform\n",
    "\n",
    "# 1. Ambil nama kolom yang coba didescribe\n",
    "kolom = ['Sleep_Hours', 'Exam_Score']\n",
    "\n",
    "# 2. Ubah array 'scaled' kembali menjadi DataFrame\n",
    "scaled_df = pd.DataFrame(scaled, columns=kolom)\n",
    "\n",
    "# 3. Gunakan .describe() untuk melihat ringkasan statistik\n",
    "print(scaled_df.describe())"
   ]
  },
  {
   "cell_type": "code",
   "execution_count": 17,
   "id": "ff029bf0",
   "metadata": {},
   "outputs": [],
   "source": [
    "# iyap sudah normal baik atribut sleep hours dengan exam score sudah memiliki skala yang sama 0-1\n"
   ]
  },
  {
   "cell_type": "code",
   "execution_count": 18,
   "id": "adf1f632",
   "metadata": {},
   "outputs": [],
   "source": [
    "# b. Data Standardization (membuatuhkan library sklearn dengan method StandardScaler)\n",
    "\n",
    "from sklearn.preprocessing import StandardScaler"
   ]
  },
  {
   "cell_type": "code",
   "execution_count": 19,
   "id": "d33bb789",
   "metadata": {},
   "outputs": [
    {
     "name": "stdout",
     "output_type": "stream",
     "text": [
      "[[-0.02381873 -0.06441555]\n",
      " [ 0.65741834 -1.59740955]\n",
      " [-0.02381873  1.72407745]\n",
      " ...\n",
      " [-0.70505581  0.19108345]\n",
      " [-0.70505581  0.19108345]\n",
      " [ 1.33865542 -0.83091255]]\n"
     ]
    }
   ],
   "source": [
    "std_scaler = StandardScaler()  \n",
    "std_scaled = std_scaler.fit_transform(df[['Sleep_Hours', 'Exam_Score']])\n",
    "print (std_scaled)\n",
    "\n",
    "# penjelasan kodenya sama hanya penggunaan classnya saja yang berbeda, kalau minmax normallization pakai minmaxScaler sedangkan Z-Score atau Standardization pakai StandardScaler."
   ]
  },
  {
   "cell_type": "code",
   "execution_count": null,
   "id": "d01cb5bc",
   "metadata": {},
   "outputs": [],
   "source": []
  }
 ],
 "metadata": {
  "kernelspec": {
   "display_name": "venv",
   "language": "python",
   "name": "python3"
  },
  "language_info": {
   "codemirror_mode": {
    "name": "ipython",
    "version": 3
   },
   "file_extension": ".py",
   "mimetype": "text/x-python",
   "name": "python",
   "nbconvert_exporter": "python",
   "pygments_lexer": "ipython3",
   "version": "3.14.0"
  }
 },
 "nbformat": 4,
 "nbformat_minor": 5
}
